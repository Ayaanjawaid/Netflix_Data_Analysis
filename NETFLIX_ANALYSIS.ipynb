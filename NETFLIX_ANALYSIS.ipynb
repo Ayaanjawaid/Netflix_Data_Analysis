{
  "cells": [
    {
      "cell_type": "markdown",
      "metadata": {
        "id": "n8P0d0RfGIfd"
      },
      "source": [
        "## **NETFLIX ANALYSIS**"
      ]
    },
    {
      "cell_type": "markdown",
      "metadata": {
        "id": "Umn4h3rVFuWn"
      },
      "source": [
        "**Business Problem:**\n",
        "\n",
        "Analyze the data and generate insights that could help Netflix in deciding which type of shows/movies to produce and how they can grow the business in different countries.\n",
        "\n",
        "**Netflix Dataset:**\n",
        "\n",
        "Netflix is one of the most popular media and video streaming platforms. They have over 8000 movies or tv shows available on their platform, as of mid-2021, they have over 200M Subscribers globally.\n",
        "This tabular dataset consists of listings of all the movies and tv shows available on Netflix, along with details such as - cast, directors, ratings, release year, duration, etc.\n",
        "\n",
        "**The dataset consists of a list of all the TV shows/movies available on Netflix:**\n",
        "\n",
        "- Show_id: `Unique ID for every Movie / Tv Show`\n",
        "\n",
        "- Type: `Identifier - A Movie or TV Show`\n",
        "\n",
        "- Title: `Title of the Movie / Tv Show`\n",
        "\n",
        "- Director: `Director of the Movie`\n",
        "\n",
        "- Cast: `Actors involved in the movie/show`\n",
        "\n",
        "- Country: `Country where the movie/show was produced`\n",
        "\n",
        "- Date_added: `Date it was added on Netflix`\n",
        "\n",
        "- Release_year: `Actual Release year of the movie/show`\n",
        "\n",
        "- Rating: `TV Rating of the movie/show`\n",
        "\n",
        "- Duration: `Total Duration - in minutes or number of seasons`\n",
        "\n",
        "- Listed_in: `Genre`\n",
        "\n",
        "- Description: `The summary description`\n",
        "\n",
        "**Objectives of the Project**\n",
        "\n",
        "Perform EDA on the given dataset and find insights.\n",
        "Provide Useful Insights and Business recommendations that can help the business to grow.\n",
        "\n",
        "\n"
      ]
    },
    {
      "cell_type": "code",
      "execution_count": 28,
      "metadata": {
        "id": "QXQtVGN_2Cny"
      },
      "outputs": [],
      "source": [
        "import numpy as np\n",
        "import pandas as pd\n",
        "import matplotlib.pyplot as plt\n",
        "import seaborn as sns\n",
        "import warnings\n",
        "warnings.filterwarnings('ignore')"
      ]
    },
    {
      "cell_type": "markdown",
      "metadata": {
        "id": "sxm7_nIzGKky"
      },
      "source": [
        "#Loading the data and Basic Observations"
      ]
    },
    {
      "cell_type": "code",
      "execution_count": 29,
      "metadata": {
        "colab": {
          "base_uri": "https://localhost:8080/",
          "height": 477
        },
        "id": "0U5w9UE42hey",
        "outputId": "562d6a21-38e0-4701-db1a-62ef16ddc122"
      },
      "outputs": [
        {
          "data": {
            "text/html": [
              "<div>\n",
              "<style scoped>\n",
              "    .dataframe tbody tr th:only-of-type {\n",
              "        vertical-align: middle;\n",
              "    }\n",
              "\n",
              "    .dataframe tbody tr th {\n",
              "        vertical-align: top;\n",
              "    }\n",
              "\n",
              "    .dataframe thead th {\n",
              "        text-align: right;\n",
              "    }\n",
              "</style>\n",
              "<table border=\"1\" class=\"dataframe\">\n",
              "  <thead>\n",
              "    <tr style=\"text-align: right;\">\n",
              "      <th></th>\n",
              "      <th>show_id</th>\n",
              "      <th>type</th>\n",
              "      <th>title</th>\n",
              "      <th>director</th>\n",
              "      <th>cast</th>\n",
              "      <th>country</th>\n",
              "      <th>date_added</th>\n",
              "      <th>release_year</th>\n",
              "      <th>rating</th>\n",
              "      <th>duration</th>\n",
              "      <th>listed_in</th>\n",
              "      <th>description</th>\n",
              "    </tr>\n",
              "  </thead>\n",
              "  <tbody>\n",
              "    <tr>\n",
              "      <th>0</th>\n",
              "      <td>s1</td>\n",
              "      <td>Movie</td>\n",
              "      <td>Dick Johnson Is Dead</td>\n",
              "      <td>Kirsten Johnson</td>\n",
              "      <td>NaN</td>\n",
              "      <td>United States</td>\n",
              "      <td>September 25, 2021</td>\n",
              "      <td>2020</td>\n",
              "      <td>PG-13</td>\n",
              "      <td>90 min</td>\n",
              "      <td>Documentaries</td>\n",
              "      <td>As her father nears the end of his life, filmm...</td>\n",
              "    </tr>\n",
              "    <tr>\n",
              "      <th>1</th>\n",
              "      <td>s2</td>\n",
              "      <td>TV Show</td>\n",
              "      <td>Blood &amp; Water</td>\n",
              "      <td>NaN</td>\n",
              "      <td>Ama Qamata, Khosi Ngema, Gail Mabalane, Thaban...</td>\n",
              "      <td>South Africa</td>\n",
              "      <td>September 24, 2021</td>\n",
              "      <td>2021</td>\n",
              "      <td>TV-MA</td>\n",
              "      <td>2 Seasons</td>\n",
              "      <td>International TV Shows, TV Dramas, TV Mysteries</td>\n",
              "      <td>After crossing paths at a party, a Cape Town t...</td>\n",
              "    </tr>\n",
              "    <tr>\n",
              "      <th>2</th>\n",
              "      <td>s3</td>\n",
              "      <td>TV Show</td>\n",
              "      <td>Ganglands</td>\n",
              "      <td>Julien Leclercq</td>\n",
              "      <td>Sami Bouajila, Tracy Gotoas, Samuel Jouy, Nabi...</td>\n",
              "      <td>NaN</td>\n",
              "      <td>September 24, 2021</td>\n",
              "      <td>2021</td>\n",
              "      <td>TV-MA</td>\n",
              "      <td>1 Season</td>\n",
              "      <td>Crime TV Shows, International TV Shows, TV Act...</td>\n",
              "      <td>To protect his family from a powerful drug lor...</td>\n",
              "    </tr>\n",
              "    <tr>\n",
              "      <th>3</th>\n",
              "      <td>s4</td>\n",
              "      <td>TV Show</td>\n",
              "      <td>Jailbirds New Orleans</td>\n",
              "      <td>NaN</td>\n",
              "      <td>NaN</td>\n",
              "      <td>NaN</td>\n",
              "      <td>September 24, 2021</td>\n",
              "      <td>2021</td>\n",
              "      <td>TV-MA</td>\n",
              "      <td>1 Season</td>\n",
              "      <td>Docuseries, Reality TV</td>\n",
              "      <td>Feuds, flirtations and toilet talk go down amo...</td>\n",
              "    </tr>\n",
              "    <tr>\n",
              "      <th>4</th>\n",
              "      <td>s5</td>\n",
              "      <td>TV Show</td>\n",
              "      <td>Kota Factory</td>\n",
              "      <td>NaN</td>\n",
              "      <td>Mayur More, Jitendra Kumar, Ranjan Raj, Alam K...</td>\n",
              "      <td>India</td>\n",
              "      <td>September 24, 2021</td>\n",
              "      <td>2021</td>\n",
              "      <td>TV-MA</td>\n",
              "      <td>2 Seasons</td>\n",
              "      <td>International TV Shows, Romantic TV Shows, TV ...</td>\n",
              "      <td>In a city of coaching centers known to train I...</td>\n",
              "    </tr>\n",
              "  </tbody>\n",
              "</table>\n",
              "</div>"
            ],
            "text/plain": [
              "  show_id     type                  title         director  \\\n",
              "0      s1    Movie   Dick Johnson Is Dead  Kirsten Johnson   \n",
              "1      s2  TV Show          Blood & Water              NaN   \n",
              "2      s3  TV Show              Ganglands  Julien Leclercq   \n",
              "3      s4  TV Show  Jailbirds New Orleans              NaN   \n",
              "4      s5  TV Show           Kota Factory              NaN   \n",
              "\n",
              "                                                cast        country  \\\n",
              "0                                                NaN  United States   \n",
              "1  Ama Qamata, Khosi Ngema, Gail Mabalane, Thaban...   South Africa   \n",
              "2  Sami Bouajila, Tracy Gotoas, Samuel Jouy, Nabi...            NaN   \n",
              "3                                                NaN            NaN   \n",
              "4  Mayur More, Jitendra Kumar, Ranjan Raj, Alam K...          India   \n",
              "\n",
              "           date_added  release_year rating   duration  \\\n",
              "0  September 25, 2021          2020  PG-13     90 min   \n",
              "1  September 24, 2021          2021  TV-MA  2 Seasons   \n",
              "2  September 24, 2021          2021  TV-MA   1 Season   \n",
              "3  September 24, 2021          2021  TV-MA   1 Season   \n",
              "4  September 24, 2021          2021  TV-MA  2 Seasons   \n",
              "\n",
              "                                           listed_in  \\\n",
              "0                                      Documentaries   \n",
              "1    International TV Shows, TV Dramas, TV Mysteries   \n",
              "2  Crime TV Shows, International TV Shows, TV Act...   \n",
              "3                             Docuseries, Reality TV   \n",
              "4  International TV Shows, Romantic TV Shows, TV ...   \n",
              "\n",
              "                                         description  \n",
              "0  As her father nears the end of his life, filmm...  \n",
              "1  After crossing paths at a party, a Cape Town t...  \n",
              "2  To protect his family from a powerful drug lor...  \n",
              "3  Feuds, flirtations and toilet talk go down amo...  \n",
              "4  In a city of coaching centers known to train I...  "
            ]
          },
          "execution_count": 29,
          "metadata": {},
          "output_type": "execute_result"
        }
      ],
      "source": [
        "df = pd.read_csv(\"netflix.csv\")\n",
        "df.head()"
      ]
    },
    {
      "cell_type": "code",
      "execution_count": 30,
      "metadata": {
        "colab": {
          "base_uri": "https://localhost:8080/"
        },
        "id": "C_9300DnGV9k",
        "outputId": "3b8f8a91-ae2f-466d-b72f-86d20ba24a1d"
      },
      "outputs": [
        {
          "data": {
            "text/plain": [
              "(8807, 12)"
            ]
          },
          "execution_count": 30,
          "metadata": {},
          "output_type": "execute_result"
        }
      ],
      "source": [
        "df.shape #there are 8807 rows and 12 columns in the data set"
      ]
    },
    {
      "cell_type": "code",
      "execution_count": 31,
      "metadata": {
        "colab": {
          "base_uri": "https://localhost:8080/"
        },
        "id": "sLBNb7BmGV7K",
        "outputId": "2af7ae60-ed68-49d4-a16b-ad062bc1285f"
      },
      "outputs": [
        {
          "name": "stdout",
          "output_type": "stream",
          "text": [
            "<class 'pandas.core.frame.DataFrame'>\n",
            "RangeIndex: 8807 entries, 0 to 8806\n",
            "Data columns (total 12 columns):\n",
            " #   Column        Non-Null Count  Dtype \n",
            "---  ------        --------------  ----- \n",
            " 0   show_id       8807 non-null   object\n",
            " 1   type          8807 non-null   object\n",
            " 2   title         8807 non-null   object\n",
            " 3   director      6173 non-null   object\n",
            " 4   cast          7982 non-null   object\n",
            " 5   country       7976 non-null   object\n",
            " 6   date_added    8797 non-null   object\n",
            " 7   release_year  8807 non-null   int64 \n",
            " 8   rating        8803 non-null   object\n",
            " 9   duration      8804 non-null   object\n",
            " 10  listed_in     8807 non-null   object\n",
            " 11  description   8807 non-null   object\n",
            "dtypes: int64(1), object(11)\n",
            "memory usage: 825.8+ KB\n"
          ]
        }
      ],
      "source": [
        "df.info()"
      ]
    },
    {
      "cell_type": "code",
      "execution_count": 32,
      "metadata": {
        "colab": {
          "base_uri": "https://localhost:8080/"
        },
        "id": "0eTBIKoAUrb0",
        "outputId": "a8ea9b95-e1ad-4a05-dbaa-9d59e5f80291"
      },
      "outputs": [
        {
          "data": {
            "text/plain": [
              "0"
            ]
          },
          "execution_count": 32,
          "metadata": {},
          "output_type": "execute_result"
        }
      ],
      "source": [
        "df.duplicated().sum()"
      ]
    },
    {
      "cell_type": "code",
      "execution_count": 33,
      "metadata": {
        "colab": {
          "base_uri": "https://localhost:8080/"
        },
        "id": "NYZid-hdUriA",
        "outputId": "3c5f6779-82a3-4f57-a2f3-50a820a34174"
      },
      "outputs": [
        {
          "data": {
            "text/plain": [
              "show_id            0\n",
              "type               0\n",
              "title              0\n",
              "director        2634\n",
              "cast             825\n",
              "country          831\n",
              "date_added        10\n",
              "release_year       0\n",
              "rating             4\n",
              "duration           3\n",
              "listed_in          0\n",
              "description        0\n",
              "dtype: int64"
            ]
          },
          "execution_count": 33,
          "metadata": {},
          "output_type": "execute_result"
        }
      ],
      "source": [
        "df.isna().sum()"
      ]
    },
    {
      "cell_type": "code",
      "execution_count": 34,
      "metadata": {
        "colab": {
          "base_uri": "https://localhost:8080/"
        },
        "id": "Z8KgXJDNGV2c",
        "outputId": "8e5ca069-fa5d-49da-db05-df80a6916649"
      },
      "outputs": [
        {
          "data": {
            "text/plain": [
              "show_id         8807\n",
              "type               2\n",
              "title           8807\n",
              "director        4528\n",
              "cast            7692\n",
              "country          748\n",
              "date_added      1767\n",
              "release_year      74\n",
              "rating            17\n",
              "duration         220\n",
              "listed_in        514\n",
              "description     8775\n",
              "dtype: int64"
            ]
          },
          "execution_count": 34,
          "metadata": {},
          "output_type": "execute_result"
        }
      ],
      "source": [
        "df.nunique()"
      ]
    },
    {
      "cell_type": "code",
      "execution_count": 35,
      "metadata": {
        "colab": {
          "base_uri": "https://localhost:8080/",
          "height": 300
        },
        "id": "Lo2hwXojGVzv",
        "outputId": "1a35521f-3004-40af-dfcc-f6a95831fdb8"
      },
      "outputs": [
        {
          "data": {
            "text/html": [
              "<div>\n",
              "<style scoped>\n",
              "    .dataframe tbody tr th:only-of-type {\n",
              "        vertical-align: middle;\n",
              "    }\n",
              "\n",
              "    .dataframe tbody tr th {\n",
              "        vertical-align: top;\n",
              "    }\n",
              "\n",
              "    .dataframe thead th {\n",
              "        text-align: right;\n",
              "    }\n",
              "</style>\n",
              "<table border=\"1\" class=\"dataframe\">\n",
              "  <thead>\n",
              "    <tr style=\"text-align: right;\">\n",
              "      <th></th>\n",
              "      <th>release_year</th>\n",
              "    </tr>\n",
              "  </thead>\n",
              "  <tbody>\n",
              "    <tr>\n",
              "      <th>count</th>\n",
              "      <td>8807.000000</td>\n",
              "    </tr>\n",
              "    <tr>\n",
              "      <th>mean</th>\n",
              "      <td>2014.180198</td>\n",
              "    </tr>\n",
              "    <tr>\n",
              "      <th>std</th>\n",
              "      <td>8.819312</td>\n",
              "    </tr>\n",
              "    <tr>\n",
              "      <th>min</th>\n",
              "      <td>1925.000000</td>\n",
              "    </tr>\n",
              "    <tr>\n",
              "      <th>25%</th>\n",
              "      <td>2013.000000</td>\n",
              "    </tr>\n",
              "    <tr>\n",
              "      <th>50%</th>\n",
              "      <td>2017.000000</td>\n",
              "    </tr>\n",
              "    <tr>\n",
              "      <th>75%</th>\n",
              "      <td>2019.000000</td>\n",
              "    </tr>\n",
              "    <tr>\n",
              "      <th>max</th>\n",
              "      <td>2021.000000</td>\n",
              "    </tr>\n",
              "  </tbody>\n",
              "</table>\n",
              "</div>"
            ],
            "text/plain": [
              "       release_year\n",
              "count   8807.000000\n",
              "mean    2014.180198\n",
              "std        8.819312\n",
              "min     1925.000000\n",
              "25%     2013.000000\n",
              "50%     2017.000000\n",
              "75%     2019.000000\n",
              "max     2021.000000"
            ]
          },
          "execution_count": 35,
          "metadata": {},
          "output_type": "execute_result"
        }
      ],
      "source": [
        "df.describe() #Only single column having numerical values.\n",
        "#It gives idea of release year of the content ranges between what timeframe. Rest all the columns are having categorical data."
      ]
    },
    {
      "cell_type": "code",
      "execution_count": 36,
      "metadata": {
        "colab": {
          "base_uri": "https://localhost:8080/",
          "height": 192
        },
        "id": "ukUpaPFvGVxL",
        "outputId": "924c9070-dca6-4446-e7f3-84b18ae31f60"
      },
      "outputs": [
        {
          "data": {
            "text/html": [
              "<div>\n",
              "<style scoped>\n",
              "    .dataframe tbody tr th:only-of-type {\n",
              "        vertical-align: middle;\n",
              "    }\n",
              "\n",
              "    .dataframe tbody tr th {\n",
              "        vertical-align: top;\n",
              "    }\n",
              "\n",
              "    .dataframe thead th {\n",
              "        text-align: right;\n",
              "    }\n",
              "</style>\n",
              "<table border=\"1\" class=\"dataframe\">\n",
              "  <thead>\n",
              "    <tr style=\"text-align: right;\">\n",
              "      <th></th>\n",
              "      <th>show_id</th>\n",
              "      <th>type</th>\n",
              "      <th>title</th>\n",
              "      <th>director</th>\n",
              "      <th>cast</th>\n",
              "      <th>country</th>\n",
              "      <th>date_added</th>\n",
              "      <th>rating</th>\n",
              "      <th>duration</th>\n",
              "      <th>listed_in</th>\n",
              "      <th>description</th>\n",
              "    </tr>\n",
              "  </thead>\n",
              "  <tbody>\n",
              "    <tr>\n",
              "      <th>count</th>\n",
              "      <td>8807</td>\n",
              "      <td>8807</td>\n",
              "      <td>8807</td>\n",
              "      <td>6173</td>\n",
              "      <td>7982</td>\n",
              "      <td>7976</td>\n",
              "      <td>8797</td>\n",
              "      <td>8803</td>\n",
              "      <td>8804</td>\n",
              "      <td>8807</td>\n",
              "      <td>8807</td>\n",
              "    </tr>\n",
              "    <tr>\n",
              "      <th>unique</th>\n",
              "      <td>8807</td>\n",
              "      <td>2</td>\n",
              "      <td>8807</td>\n",
              "      <td>4528</td>\n",
              "      <td>7692</td>\n",
              "      <td>748</td>\n",
              "      <td>1767</td>\n",
              "      <td>17</td>\n",
              "      <td>220</td>\n",
              "      <td>514</td>\n",
              "      <td>8775</td>\n",
              "    </tr>\n",
              "    <tr>\n",
              "      <th>top</th>\n",
              "      <td>s1</td>\n",
              "      <td>Movie</td>\n",
              "      <td>Dick Johnson Is Dead</td>\n",
              "      <td>Rajiv Chilaka</td>\n",
              "      <td>David Attenborough</td>\n",
              "      <td>United States</td>\n",
              "      <td>January 1, 2020</td>\n",
              "      <td>TV-MA</td>\n",
              "      <td>1 Season</td>\n",
              "      <td>Dramas, International Movies</td>\n",
              "      <td>Paranormal activity at a lush, abandoned prope...</td>\n",
              "    </tr>\n",
              "    <tr>\n",
              "      <th>freq</th>\n",
              "      <td>1</td>\n",
              "      <td>6131</td>\n",
              "      <td>1</td>\n",
              "      <td>19</td>\n",
              "      <td>19</td>\n",
              "      <td>2818</td>\n",
              "      <td>109</td>\n",
              "      <td>3207</td>\n",
              "      <td>1793</td>\n",
              "      <td>362</td>\n",
              "      <td>4</td>\n",
              "    </tr>\n",
              "  </tbody>\n",
              "</table>\n",
              "</div>"
            ],
            "text/plain": [
              "       show_id   type                 title       director  \\\n",
              "count     8807   8807                  8807           6173   \n",
              "unique    8807      2                  8807           4528   \n",
              "top         s1  Movie  Dick Johnson Is Dead  Rajiv Chilaka   \n",
              "freq         1   6131                     1             19   \n",
              "\n",
              "                      cast        country       date_added rating  duration  \\\n",
              "count                 7982           7976             8797   8803      8804   \n",
              "unique                7692            748             1767     17       220   \n",
              "top     David Attenborough  United States  January 1, 2020  TV-MA  1 Season   \n",
              "freq                    19           2818              109   3207      1793   \n",
              "\n",
              "                           listed_in  \\\n",
              "count                           8807   \n",
              "unique                           514   \n",
              "top     Dramas, International Movies   \n",
              "freq                             362   \n",
              "\n",
              "                                              description  \n",
              "count                                                8807  \n",
              "unique                                               8775  \n",
              "top     Paranormal activity at a lush, abandoned prope...  \n",
              "freq                                                    4  "
            ]
          },
          "execution_count": 36,
          "metadata": {},
          "output_type": "execute_result"
        }
      ],
      "source": [
        "df.describe(include = object)"
      ]
    },
    {
      "cell_type": "markdown",
      "metadata": {
        "id": "J0F6lmDIIXG4"
      },
      "source": [
        "#Data Cleaning"
      ]
    },
    {
      "cell_type": "code",
      "execution_count": 37,
      "metadata": {
        "colab": {
          "base_uri": "https://localhost:8080/"
        },
        "id": "YelzGb9BGVuc",
        "outputId": "18aea297-de37-4bd3-fcef-ba00d4237632"
      },
      "outputs": [
        {
          "data": {
            "text/plain": [
              "show_id            0\n",
              "type               0\n",
              "title              0\n",
              "director        2634\n",
              "cast             825\n",
              "country          831\n",
              "date_added        10\n",
              "release_year       0\n",
              "rating             4\n",
              "duration           3\n",
              "listed_in          0\n",
              "description        0\n",
              "dtype: int64"
            ]
          },
          "execution_count": 37,
          "metadata": {},
          "output_type": "execute_result"
        }
      ],
      "source": [
        "#finding null vlaues\n",
        "df.isna().sum()"
      ]
    },
    {
      "cell_type": "code",
      "execution_count": 38,
      "metadata": {
        "colab": {
          "base_uri": "https://localhost:8080/",
          "height": 195
        },
        "id": "i3cX18Q0GVr7",
        "outputId": "5a2a167e-81b8-43ba-d6fa-643a3e8a7bf8"
      },
      "outputs": [
        {
          "data": {
            "text/html": [
              "<div>\n",
              "<style scoped>\n",
              "    .dataframe tbody tr th:only-of-type {\n",
              "        vertical-align: middle;\n",
              "    }\n",
              "\n",
              "    .dataframe tbody tr th {\n",
              "        vertical-align: top;\n",
              "    }\n",
              "\n",
              "    .dataframe thead th {\n",
              "        text-align: right;\n",
              "    }\n",
              "</style>\n",
              "<table border=\"1\" class=\"dataframe\">\n",
              "  <thead>\n",
              "    <tr style=\"text-align: right;\">\n",
              "      <th></th>\n",
              "      <th>show_id</th>\n",
              "      <th>type</th>\n",
              "      <th>title</th>\n",
              "      <th>director</th>\n",
              "      <th>cast</th>\n",
              "      <th>country</th>\n",
              "      <th>date_added</th>\n",
              "      <th>release_year</th>\n",
              "      <th>rating</th>\n",
              "      <th>duration</th>\n",
              "      <th>listed_in</th>\n",
              "      <th>description</th>\n",
              "    </tr>\n",
              "  </thead>\n",
              "  <tbody>\n",
              "    <tr>\n",
              "      <th>5541</th>\n",
              "      <td>s5542</td>\n",
              "      <td>Movie</td>\n",
              "      <td>Louis C.K. 2017</td>\n",
              "      <td>Louis C.K.</td>\n",
              "      <td>Louis C.K.</td>\n",
              "      <td>United States</td>\n",
              "      <td>April 4, 2017</td>\n",
              "      <td>2017</td>\n",
              "      <td>74 min</td>\n",
              "      <td>NaN</td>\n",
              "      <td>Movies</td>\n",
              "      <td>Louis C.K. muses on religion, eternal love, gi...</td>\n",
              "    </tr>\n",
              "    <tr>\n",
              "      <th>5794</th>\n",
              "      <td>s5795</td>\n",
              "      <td>Movie</td>\n",
              "      <td>Louis C.K.: Hilarious</td>\n",
              "      <td>Louis C.K.</td>\n",
              "      <td>Louis C.K.</td>\n",
              "      <td>United States</td>\n",
              "      <td>September 16, 2016</td>\n",
              "      <td>2010</td>\n",
              "      <td>84 min</td>\n",
              "      <td>NaN</td>\n",
              "      <td>Movies</td>\n",
              "      <td>Emmy-winning comedy writer Louis C.K. brings h...</td>\n",
              "    </tr>\n",
              "    <tr>\n",
              "      <th>5813</th>\n",
              "      <td>s5814</td>\n",
              "      <td>Movie</td>\n",
              "      <td>Louis C.K.: Live at the Comedy Store</td>\n",
              "      <td>Louis C.K.</td>\n",
              "      <td>Louis C.K.</td>\n",
              "      <td>United States</td>\n",
              "      <td>August 15, 2016</td>\n",
              "      <td>2015</td>\n",
              "      <td>66 min</td>\n",
              "      <td>NaN</td>\n",
              "      <td>Movies</td>\n",
              "      <td>The comic puts his trademark hilarious/thought...</td>\n",
              "    </tr>\n",
              "  </tbody>\n",
              "</table>\n",
              "</div>"
            ],
            "text/plain": [
              "     show_id   type                                 title    director  \\\n",
              "5541   s5542  Movie                       Louis C.K. 2017  Louis C.K.   \n",
              "5794   s5795  Movie                 Louis C.K.: Hilarious  Louis C.K.   \n",
              "5813   s5814  Movie  Louis C.K.: Live at the Comedy Store  Louis C.K.   \n",
              "\n",
              "            cast        country          date_added  release_year  rating  \\\n",
              "5541  Louis C.K.  United States       April 4, 2017          2017  74 min   \n",
              "5794  Louis C.K.  United States  September 16, 2016          2010  84 min   \n",
              "5813  Louis C.K.  United States     August 15, 2016          2015  66 min   \n",
              "\n",
              "     duration listed_in                                        description  \n",
              "5541      NaN    Movies  Louis C.K. muses on religion, eternal love, gi...  \n",
              "5794      NaN    Movies  Emmy-winning comedy writer Louis C.K. brings h...  \n",
              "5813      NaN    Movies  The comic puts his trademark hilarious/thought...  "
            ]
          },
          "execution_count": 38,
          "metadata": {},
          "output_type": "execute_result"
        }
      ],
      "source": [
        "df[df['duration'].isna()]"
      ]
    },
    {
      "cell_type": "markdown",
      "metadata": {
        "id": "m6sC2YRtI9bz"
      },
      "source": [
        "there are 3 missing values in duration column , and it is also found that by mistake those data got entered in rating column"
      ]
    },
    {
      "cell_type": "code",
      "execution_count": 39,
      "metadata": {
        "colab": {
          "base_uri": "https://localhost:8080/"
        },
        "id": "BDYgU9pyGVpR",
        "outputId": "d4088c62-aa41-4d0b-fc19-c966a31de0f2"
      },
      "outputs": [
        {
          "data": {
            "text/plain": [
              "Index([5541, 5794, 5813], dtype='int64')"
            ]
          },
          "execution_count": 39,
          "metadata": {},
          "output_type": "execute_result"
        }
      ],
      "source": [
        "du_ind = df[df.duration.isna()].index\n",
        "du_ind"
      ]
    },
    {
      "cell_type": "code",
      "execution_count": 40,
      "metadata": {
        "id": "i9qpBhAtGVmf"
      },
      "outputs": [],
      "source": [
        "df.loc[du_ind] = df.loc[du_ind].fillna(method = 'ffill' , axis = 1)\n"
      ]
    },
    {
      "cell_type": "code",
      "execution_count": 41,
      "metadata": {
        "id": "RXSIBNwRGVkI"
      },
      "outputs": [],
      "source": [
        "# replaced the wrong entries done in the rating column\n",
        "df.loc[du_ind ,'rating'] = 'Not Available'"
      ]
    },
    {
      "cell_type": "code",
      "execution_count": 42,
      "metadata": {
        "colab": {
          "base_uri": "https://localhost:8080/",
          "height": 195
        },
        "id": "oPCtMXtOGVhf",
        "outputId": "963176b8-9a73-4a5c-fab1-faebb48f338d"
      },
      "outputs": [
        {
          "data": {
            "text/html": [
              "<div>\n",
              "<style scoped>\n",
              "    .dataframe tbody tr th:only-of-type {\n",
              "        vertical-align: middle;\n",
              "    }\n",
              "\n",
              "    .dataframe tbody tr th {\n",
              "        vertical-align: top;\n",
              "    }\n",
              "\n",
              "    .dataframe thead th {\n",
              "        text-align: right;\n",
              "    }\n",
              "</style>\n",
              "<table border=\"1\" class=\"dataframe\">\n",
              "  <thead>\n",
              "    <tr style=\"text-align: right;\">\n",
              "      <th></th>\n",
              "      <th>show_id</th>\n",
              "      <th>type</th>\n",
              "      <th>title</th>\n",
              "      <th>director</th>\n",
              "      <th>cast</th>\n",
              "      <th>country</th>\n",
              "      <th>date_added</th>\n",
              "      <th>release_year</th>\n",
              "      <th>rating</th>\n",
              "      <th>duration</th>\n",
              "      <th>listed_in</th>\n",
              "      <th>description</th>\n",
              "    </tr>\n",
              "  </thead>\n",
              "  <tbody>\n",
              "    <tr>\n",
              "      <th>5541</th>\n",
              "      <td>s5542</td>\n",
              "      <td>Movie</td>\n",
              "      <td>Louis C.K. 2017</td>\n",
              "      <td>Louis C.K.</td>\n",
              "      <td>Louis C.K.</td>\n",
              "      <td>United States</td>\n",
              "      <td>April 4, 2017</td>\n",
              "      <td>2017</td>\n",
              "      <td>Not Available</td>\n",
              "      <td>74 min</td>\n",
              "      <td>Movies</td>\n",
              "      <td>Louis C.K. muses on religion, eternal love, gi...</td>\n",
              "    </tr>\n",
              "    <tr>\n",
              "      <th>5794</th>\n",
              "      <td>s5795</td>\n",
              "      <td>Movie</td>\n",
              "      <td>Louis C.K.: Hilarious</td>\n",
              "      <td>Louis C.K.</td>\n",
              "      <td>Louis C.K.</td>\n",
              "      <td>United States</td>\n",
              "      <td>September 16, 2016</td>\n",
              "      <td>2010</td>\n",
              "      <td>Not Available</td>\n",
              "      <td>84 min</td>\n",
              "      <td>Movies</td>\n",
              "      <td>Emmy-winning comedy writer Louis C.K. brings h...</td>\n",
              "    </tr>\n",
              "    <tr>\n",
              "      <th>5813</th>\n",
              "      <td>s5814</td>\n",
              "      <td>Movie</td>\n",
              "      <td>Louis C.K.: Live at the Comedy Store</td>\n",
              "      <td>Louis C.K.</td>\n",
              "      <td>Louis C.K.</td>\n",
              "      <td>United States</td>\n",
              "      <td>August 15, 2016</td>\n",
              "      <td>2015</td>\n",
              "      <td>Not Available</td>\n",
              "      <td>66 min</td>\n",
              "      <td>Movies</td>\n",
              "      <td>The comic puts his trademark hilarious/thought...</td>\n",
              "    </tr>\n",
              "  </tbody>\n",
              "</table>\n",
              "</div>"
            ],
            "text/plain": [
              "     show_id   type                                 title    director  \\\n",
              "5541   s5542  Movie                       Louis C.K. 2017  Louis C.K.   \n",
              "5794   s5795  Movie                 Louis C.K.: Hilarious  Louis C.K.   \n",
              "5813   s5814  Movie  Louis C.K.: Live at the Comedy Store  Louis C.K.   \n",
              "\n",
              "            cast        country          date_added release_year  \\\n",
              "5541  Louis C.K.  United States       April 4, 2017         2017   \n",
              "5794  Louis C.K.  United States  September 16, 2016         2010   \n",
              "5813  Louis C.K.  United States     August 15, 2016         2015   \n",
              "\n",
              "             rating duration listed_in  \\\n",
              "5541  Not Available   74 min    Movies   \n",
              "5794  Not Available   84 min    Movies   \n",
              "5813  Not Available   66 min    Movies   \n",
              "\n",
              "                                            description  \n",
              "5541  Louis C.K. muses on religion, eternal love, gi...  \n",
              "5794  Emmy-winning comedy writer Louis C.K. brings h...  \n",
              "5813  The comic puts his trademark hilarious/thought...  "
            ]
          },
          "execution_count": 42,
          "metadata": {},
          "output_type": "execute_result"
        }
      ],
      "source": [
        "df.loc[du_ind]"
      ]
    },
    {
      "cell_type": "code",
      "execution_count": 43,
      "metadata": {
        "colab": {
          "base_uri": "https://localhost:8080/",
          "height": 296
        },
        "id": "VROJDXO9GVfE",
        "outputId": "85794e60-7780-4146-fec1-311e3b3004d5"
      },
      "outputs": [
        {
          "data": {
            "text/html": [
              "<div>\n",
              "<style scoped>\n",
              "    .dataframe tbody tr th:only-of-type {\n",
              "        vertical-align: middle;\n",
              "    }\n",
              "\n",
              "    .dataframe tbody tr th {\n",
              "        vertical-align: top;\n",
              "    }\n",
              "\n",
              "    .dataframe thead th {\n",
              "        text-align: right;\n",
              "    }\n",
              "</style>\n",
              "<table border=\"1\" class=\"dataframe\">\n",
              "  <thead>\n",
              "    <tr style=\"text-align: right;\">\n",
              "      <th></th>\n",
              "      <th>show_id</th>\n",
              "      <th>type</th>\n",
              "      <th>title</th>\n",
              "      <th>director</th>\n",
              "      <th>cast</th>\n",
              "      <th>country</th>\n",
              "      <th>date_added</th>\n",
              "      <th>release_year</th>\n",
              "      <th>rating</th>\n",
              "      <th>duration</th>\n",
              "      <th>listed_in</th>\n",
              "      <th>description</th>\n",
              "    </tr>\n",
              "  </thead>\n",
              "  <tbody>\n",
              "    <tr>\n",
              "      <th>5989</th>\n",
              "      <td>s5990</td>\n",
              "      <td>Movie</td>\n",
              "      <td>13TH: A Conversation with Oprah Winfrey &amp; Ava ...</td>\n",
              "      <td>NaN</td>\n",
              "      <td>Oprah Winfrey, Ava DuVernay</td>\n",
              "      <td>NaN</td>\n",
              "      <td>January 26, 2017</td>\n",
              "      <td>2017</td>\n",
              "      <td>NaN</td>\n",
              "      <td>37 min</td>\n",
              "      <td>Movies</td>\n",
              "      <td>Oprah Winfrey sits down with director Ava DuVe...</td>\n",
              "    </tr>\n",
              "    <tr>\n",
              "      <th>6827</th>\n",
              "      <td>s6828</td>\n",
              "      <td>TV Show</td>\n",
              "      <td>Gargantia on the Verdurous Planet</td>\n",
              "      <td>NaN</td>\n",
              "      <td>Kaito Ishikawa, Hisako Kanemoto, Ai Kayano, Ka...</td>\n",
              "      <td>Japan</td>\n",
              "      <td>December 1, 2016</td>\n",
              "      <td>2013</td>\n",
              "      <td>NaN</td>\n",
              "      <td>1 Season</td>\n",
              "      <td>Anime Series, International TV Shows</td>\n",
              "      <td>After falling through a wormhole, a space-dwel...</td>\n",
              "    </tr>\n",
              "    <tr>\n",
              "      <th>7312</th>\n",
              "      <td>s7313</td>\n",
              "      <td>TV Show</td>\n",
              "      <td>Little Lunch</td>\n",
              "      <td>NaN</td>\n",
              "      <td>Flynn Curry, Olivia Deeble, Madison Lu, Oisín ...</td>\n",
              "      <td>Australia</td>\n",
              "      <td>February 1, 2018</td>\n",
              "      <td>2015</td>\n",
              "      <td>NaN</td>\n",
              "      <td>1 Season</td>\n",
              "      <td>Kids' TV, TV Comedies</td>\n",
              "      <td>Adopting a child's perspective, this show take...</td>\n",
              "    </tr>\n",
              "    <tr>\n",
              "      <th>7537</th>\n",
              "      <td>s7538</td>\n",
              "      <td>Movie</td>\n",
              "      <td>My Honor Was Loyalty</td>\n",
              "      <td>Alessandro Pepe</td>\n",
              "      <td>Leone Frisa, Paolo Vaccarino, Francesco Miglio...</td>\n",
              "      <td>Italy</td>\n",
              "      <td>March 1, 2017</td>\n",
              "      <td>2015</td>\n",
              "      <td>NaN</td>\n",
              "      <td>115 min</td>\n",
              "      <td>Dramas</td>\n",
              "      <td>Amid the chaos and horror of World War II, a c...</td>\n",
              "    </tr>\n",
              "  </tbody>\n",
              "</table>\n",
              "</div>"
            ],
            "text/plain": [
              "     show_id     type                                              title  \\\n",
              "5989   s5990    Movie  13TH: A Conversation with Oprah Winfrey & Ava ...   \n",
              "6827   s6828  TV Show                  Gargantia on the Verdurous Planet   \n",
              "7312   s7313  TV Show                                       Little Lunch   \n",
              "7537   s7538    Movie                               My Honor Was Loyalty   \n",
              "\n",
              "             director                                               cast  \\\n",
              "5989              NaN                        Oprah Winfrey, Ava DuVernay   \n",
              "6827              NaN  Kaito Ishikawa, Hisako Kanemoto, Ai Kayano, Ka...   \n",
              "7312              NaN  Flynn Curry, Olivia Deeble, Madison Lu, Oisín ...   \n",
              "7537  Alessandro Pepe  Leone Frisa, Paolo Vaccarino, Francesco Miglio...   \n",
              "\n",
              "        country        date_added release_year rating  duration  \\\n",
              "5989        NaN  January 26, 2017         2017    NaN    37 min   \n",
              "6827      Japan  December 1, 2016         2013    NaN  1 Season   \n",
              "7312  Australia  February 1, 2018         2015    NaN  1 Season   \n",
              "7537      Italy     March 1, 2017         2015    NaN   115 min   \n",
              "\n",
              "                                 listed_in  \\\n",
              "5989                                Movies   \n",
              "6827  Anime Series, International TV Shows   \n",
              "7312                 Kids' TV, TV Comedies   \n",
              "7537                                Dramas   \n",
              "\n",
              "                                            description  \n",
              "5989  Oprah Winfrey sits down with director Ava DuVe...  \n",
              "6827  After falling through a wormhole, a space-dwel...  \n",
              "7312  Adopting a child's perspective, this show take...  \n",
              "7537  Amid the chaos and horror of World War II, a c...  "
            ]
          },
          "execution_count": 43,
          "metadata": {},
          "output_type": "execute_result"
        }
      ],
      "source": [
        "# null values in rating column\n",
        "df[df.rating.isna()]"
      ]
    },
    {
      "cell_type": "code",
      "execution_count": 44,
      "metadata": {
        "colab": {
          "base_uri": "https://localhost:8080/"
        },
        "id": "VpM1l4qDGVca",
        "outputId": "7ef6d433-2d23-4062-9172-948411f1f309"
      },
      "outputs": [
        {
          "data": {
            "text/plain": [
              "Index([5989, 6827, 7312, 7537], dtype='int64')"
            ]
          },
          "execution_count": 44,
          "metadata": {},
          "output_type": "execute_result"
        }
      ],
      "source": [
        "rat_ind = df[df.rating.isna()].index\n",
        "rat_ind"
      ]
    },
    {
      "cell_type": "code",
      "execution_count": 45,
      "metadata": {
        "id": "L4rlPkGOGVXy"
      },
      "outputs": [],
      "source": [
        "df.loc[rat_ind]=df.loc[rat_ind].fillna(\"Not Available\")"
      ]
    },
    {
      "cell_type": "code",
      "execution_count": 46,
      "metadata": {
        "colab": {
          "base_uri": "https://localhost:8080/",
          "height": 313
        },
        "id": "v3LkS3xcGVVa",
        "outputId": "0e547b0b-49da-4176-e373-aa1bf988bb37"
      },
      "outputs": [
        {
          "data": {
            "text/html": [
              "<div>\n",
              "<style scoped>\n",
              "    .dataframe tbody tr th:only-of-type {\n",
              "        vertical-align: middle;\n",
              "    }\n",
              "\n",
              "    .dataframe tbody tr th {\n",
              "        vertical-align: top;\n",
              "    }\n",
              "\n",
              "    .dataframe thead th {\n",
              "        text-align: right;\n",
              "    }\n",
              "</style>\n",
              "<table border=\"1\" class=\"dataframe\">\n",
              "  <thead>\n",
              "    <tr style=\"text-align: right;\">\n",
              "      <th></th>\n",
              "      <th>show_id</th>\n",
              "      <th>type</th>\n",
              "      <th>title</th>\n",
              "      <th>director</th>\n",
              "      <th>cast</th>\n",
              "      <th>country</th>\n",
              "      <th>date_added</th>\n",
              "      <th>release_year</th>\n",
              "      <th>rating</th>\n",
              "      <th>duration</th>\n",
              "      <th>listed_in</th>\n",
              "      <th>description</th>\n",
              "    </tr>\n",
              "  </thead>\n",
              "  <tbody>\n",
              "    <tr>\n",
              "      <th>5989</th>\n",
              "      <td>s5990</td>\n",
              "      <td>Movie</td>\n",
              "      <td>13TH: A Conversation with Oprah Winfrey &amp; Ava ...</td>\n",
              "      <td>Not Available</td>\n",
              "      <td>Oprah Winfrey, Ava DuVernay</td>\n",
              "      <td>Not Available</td>\n",
              "      <td>January 26, 2017</td>\n",
              "      <td>2017</td>\n",
              "      <td>Not Available</td>\n",
              "      <td>37 min</td>\n",
              "      <td>Movies</td>\n",
              "      <td>Oprah Winfrey sits down with director Ava DuVe...</td>\n",
              "    </tr>\n",
              "    <tr>\n",
              "      <th>6827</th>\n",
              "      <td>s6828</td>\n",
              "      <td>TV Show</td>\n",
              "      <td>Gargantia on the Verdurous Planet</td>\n",
              "      <td>Not Available</td>\n",
              "      <td>Kaito Ishikawa, Hisako Kanemoto, Ai Kayano, Ka...</td>\n",
              "      <td>Japan</td>\n",
              "      <td>December 1, 2016</td>\n",
              "      <td>2013</td>\n",
              "      <td>Not Available</td>\n",
              "      <td>1 Season</td>\n",
              "      <td>Anime Series, International TV Shows</td>\n",
              "      <td>After falling through a wormhole, a space-dwel...</td>\n",
              "    </tr>\n",
              "    <tr>\n",
              "      <th>7312</th>\n",
              "      <td>s7313</td>\n",
              "      <td>TV Show</td>\n",
              "      <td>Little Lunch</td>\n",
              "      <td>Not Available</td>\n",
              "      <td>Flynn Curry, Olivia Deeble, Madison Lu, Oisín ...</td>\n",
              "      <td>Australia</td>\n",
              "      <td>February 1, 2018</td>\n",
              "      <td>2015</td>\n",
              "      <td>Not Available</td>\n",
              "      <td>1 Season</td>\n",
              "      <td>Kids' TV, TV Comedies</td>\n",
              "      <td>Adopting a child's perspective, this show take...</td>\n",
              "    </tr>\n",
              "    <tr>\n",
              "      <th>7537</th>\n",
              "      <td>s7538</td>\n",
              "      <td>Movie</td>\n",
              "      <td>My Honor Was Loyalty</td>\n",
              "      <td>Alessandro Pepe</td>\n",
              "      <td>Leone Frisa, Paolo Vaccarino, Francesco Miglio...</td>\n",
              "      <td>Italy</td>\n",
              "      <td>March 1, 2017</td>\n",
              "      <td>2015</td>\n",
              "      <td>Not Available</td>\n",
              "      <td>115 min</td>\n",
              "      <td>Dramas</td>\n",
              "      <td>Amid the chaos and horror of World War II, a c...</td>\n",
              "    </tr>\n",
              "  </tbody>\n",
              "</table>\n",
              "</div>"
            ],
            "text/plain": [
              "     show_id     type                                              title  \\\n",
              "5989   s5990    Movie  13TH: A Conversation with Oprah Winfrey & Ava ...   \n",
              "6827   s6828  TV Show                  Gargantia on the Verdurous Planet   \n",
              "7312   s7313  TV Show                                       Little Lunch   \n",
              "7537   s7538    Movie                               My Honor Was Loyalty   \n",
              "\n",
              "             director                                               cast  \\\n",
              "5989    Not Available                        Oprah Winfrey, Ava DuVernay   \n",
              "6827    Not Available  Kaito Ishikawa, Hisako Kanemoto, Ai Kayano, Ka...   \n",
              "7312    Not Available  Flynn Curry, Olivia Deeble, Madison Lu, Oisín ...   \n",
              "7537  Alessandro Pepe  Leone Frisa, Paolo Vaccarino, Francesco Miglio...   \n",
              "\n",
              "            country        date_added release_year         rating  duration  \\\n",
              "5989  Not Available  January 26, 2017         2017  Not Available    37 min   \n",
              "6827          Japan  December 1, 2016         2013  Not Available  1 Season   \n",
              "7312      Australia  February 1, 2018         2015  Not Available  1 Season   \n",
              "7537          Italy     March 1, 2017         2015  Not Available   115 min   \n",
              "\n",
              "                                 listed_in  \\\n",
              "5989                                Movies   \n",
              "6827  Anime Series, International TV Shows   \n",
              "7312                 Kids' TV, TV Comedies   \n",
              "7537                                Dramas   \n",
              "\n",
              "                                            description  \n",
              "5989  Oprah Winfrey sits down with director Ava DuVe...  \n",
              "6827  After falling through a wormhole, a space-dwel...  \n",
              "7312  Adopting a child's perspective, this show take...  \n",
              "7537  Amid the chaos and horror of World War II, a c...  "
            ]
          },
          "execution_count": 46,
          "metadata": {},
          "output_type": "execute_result"
        }
      ],
      "source": [
        "df.loc[rat_ind]"
      ]
    },
    {
      "cell_type": "code",
      "execution_count": 47,
      "metadata": {
        "colab": {
          "base_uri": "https://localhost:8080/"
        },
        "id": "Sjksmb8yGVS2",
        "outputId": "208ca6fd-ad41-4d3a-b7bc-782d9b63a23f"
      },
      "outputs": [
        {
          "data": {
            "text/plain": [
              "array(['PG-13', 'TV-MA', 'PG', 'TV-14', 'TV-PG', 'TV-Y', 'TV-Y7', 'R',\n",
              "       'TV-G', 'G', 'NC-17', 'Not Available', 'NR', 'TV-Y7-FV', 'UR'],\n",
              "      dtype=object)"
            ]
          },
          "execution_count": 47,
          "metadata": {},
          "output_type": "execute_result"
        }
      ],
      "source": [
        "df.rating.unique()"
      ]
    },
    {
      "cell_type": "markdown",
      "metadata": {
        "id": "VDyNyA9tOQ4U"
      },
      "source": [
        "In movie/TV rating NR and UR means same thing NOT RATED."
      ]
    },
    {
      "cell_type": "code",
      "execution_count": 48,
      "metadata": {
        "colab": {
          "base_uri": "https://localhost:8080/"
        },
        "id": "XnfYDRxxO3-3",
        "outputId": "fa234afe-b5bc-41e2-9363-dcb029c0859b"
      },
      "outputs": [
        {
          "data": {
            "text/plain": [
              "rating\n",
              "TV-MA            3207\n",
              "TV-14            2160\n",
              "TV-PG             863\n",
              "R                 799\n",
              "PG-13             490\n",
              "TV-Y7             334\n",
              "TV-Y              307\n",
              "PG                287\n",
              "TV-G              220\n",
              "NR                 80\n",
              "G                  41\n",
              "Not Available       7\n",
              "TV-Y7-FV            6\n",
              "NC-17               3\n",
              "UR                  3\n",
              "Name: count, dtype: int64"
            ]
          },
          "execution_count": 48,
          "metadata": {},
          "output_type": "execute_result"
        }
      ],
      "source": [
        "df.rating.value_counts()"
      ]
    },
    {
      "cell_type": "markdown",
      "metadata": {
        "id": "bW3c9eJPPCVI"
      },
      "source": [
        "NR=80 and Ur = 3\n",
        "\n",
        "so we change ur to NR"
      ]
    },
    {
      "cell_type": "code",
      "execution_count": 49,
      "metadata": {
        "id": "MCTWZGVEGVQW"
      },
      "outputs": [],
      "source": [
        "df.loc[df[\"rating\"] == \"UR\"] =\"NR\"\n"
      ]
    },
    {
      "cell_type": "code",
      "execution_count": 50,
      "metadata": {
        "colab": {
          "base_uri": "https://localhost:8080/"
        },
        "id": "rkRQNTjXGVN2",
        "outputId": "d33f2ad2-6ad7-4fa6-ea97-adc3d4e92dc3"
      },
      "outputs": [
        {
          "data": {
            "text/plain": [
              "rating\n",
              "TV-MA            3207\n",
              "TV-14            2160\n",
              "TV-PG             863\n",
              "R                 799\n",
              "PG-13             490\n",
              "TV-Y7             334\n",
              "TV-Y              307\n",
              "PG                287\n",
              "TV-G              220\n",
              "NR                 83\n",
              "G                  41\n",
              "Not Available       7\n",
              "TV-Y7-FV            6\n",
              "NC-17               3\n",
              "Name: count, dtype: int64"
            ]
          },
          "execution_count": 50,
          "metadata": {},
          "output_type": "execute_result"
        }
      ],
      "source": [
        "df.rating.value_counts()"
      ]
    },
    {
      "cell_type": "markdown",
      "metadata": {
        "id": "ASxGiQVIQFZf"
      },
      "source": [
        "dropping the na in date added columns"
      ]
    },
    {
      "cell_type": "code",
      "execution_count": 51,
      "metadata": {
        "id": "s9hEB1lhGVLU"
      },
      "outputs": [],
      "source": [
        "df.drop(df.loc[df['date_added'].isna()].index , axis = 0 , inplace = True)"
      ]
    },
    {
      "cell_type": "code",
      "execution_count": 52,
      "metadata": {
        "colab": {
          "base_uri": "https://localhost:8080/"
        },
        "id": "h_6zM8YnGVI2",
        "outputId": "a1f9b88e-3bd8-48cd-a1e3-3a4ab7865a94"
      },
      "outputs": [
        {
          "data": {
            "text/plain": [
              "date_added\n",
              "January 1, 2020      109\n",
              "November 1, 2019      89\n",
              "March 1, 2018         75\n",
              "December 31, 2019     74\n",
              "October 1, 2018       71\n",
              "                    ... \n",
              "December 4, 2016       1\n",
              "November 21, 2016      1\n",
              "November 19, 2016      1\n",
              "November 17, 2016      1\n",
              "January 11, 2020       1\n",
              "Name: count, Length: 1767, dtype: int64"
            ]
          },
          "execution_count": 52,
          "metadata": {},
          "output_type": "execute_result"
        }
      ],
      "source": [
        "df['date_added'].value_counts()"
      ]
    },
    {
      "cell_type": "code",
      "execution_count": 53,
      "metadata": {
        "id": "16fL_shtYRI9"
      },
      "outputs": [],
      "source": [
        "df['date_added'] = df['date_added'].astype(str)"
      ]
    },
    {
      "cell_type": "code",
      "execution_count": 54,
      "metadata": {
        "id": "yLMTjiWsGVGQ"
      },
      "outputs": [],
      "source": [
        "# Filter out rows with 'NR' in the 'date_added' column\n",
        "df = df[df['date_added'] != 'NR']\n",
        "\n",
        "# Convert the 'date_added' column to datetime, handling errors gracefully\n",
        "df[\"date_added\"] = pd.to_datetime(df['date_added'], errors='coerce')\n",
        "\n",
        "# Drop rows where 'date_added' could not be converted (NaT values)\n",
        "df = df.dropna(subset=['date_added'])\n",
        "\n",
        "# Extract day, month, and year from the 'date_added' column\n",
        "df['day_added'] = df['date_added'].dt.day\n",
        "df['year_added'] = df['date_added'].dt.year\n",
        "df['month_added'] = df['date_added'].dt.month\n"
      ]
    },
    {
      "cell_type": "markdown",
      "metadata": {
        "id": "uI_qgec0n-5S"
      },
      "source": [
        "#Data Exploration and Non Graphical Analysis"
      ]
    },
    {
      "cell_type": "code",
      "execution_count": 55,
      "metadata": {
        "colab": {
          "base_uri": "https://localhost:8080/"
        },
        "id": "3so2b5d6oBKN",
        "outputId": "d450ff6c-223e-48eb-d481-d46413a985e8"
      },
      "outputs": [
        {
          "data": {
            "text/plain": [
              "array(['Movie', 'TV Show'], dtype=object)"
            ]
          },
          "execution_count": 55,
          "metadata": {},
          "output_type": "execute_result"
        }
      ],
      "source": [
        "# 2 types of content present in dataset - either Movie or TV Show\n",
        "df['type'].unique()"
      ]
    },
    {
      "cell_type": "code",
      "execution_count": 56,
      "metadata": {
        "id": "R0EFqIxRoB1n"
      },
      "outputs": [],
      "source": [
        "movies  = df.loc[df['type'] == 'Movie']\n",
        "tv_shows = df.loc[df['type'] == 'TV Show']"
      ]
    },
    {
      "cell_type": "code",
      "execution_count": 57,
      "metadata": {
        "colab": {
          "base_uri": "https://localhost:8080/"
        },
        "id": "xJigfNgloBzP",
        "outputId": "cd981c6e-fb3b-4b69-fd5f-66ddfd781551"
      },
      "outputs": [
        {
          "data": {
            "text/plain": [
              "duration\n",
              "90 min     152\n",
              "94 min     146\n",
              "97 min     146\n",
              "93 min     146\n",
              "91 min     144\n",
              "          ... \n",
              "208 min      1\n",
              "5 min        1\n",
              "16 min       1\n",
              "186 min      1\n",
              "191 min      1\n",
              "Name: count, Length: 205, dtype: int64"
            ]
          },
          "execution_count": 57,
          "metadata": {},
          "output_type": "execute_result"
        }
      ],
      "source": [
        "movies.duration.value_counts()"
      ]
    },
    {
      "cell_type": "code",
      "execution_count": 58,
      "metadata": {
        "colab": {
          "base_uri": "https://localhost:8080/"
        },
        "id": "xu-D_ZEToBw6",
        "outputId": "9aafa8ba-18dd-464b-f1b9-7a59138f908b"
      },
      "outputs": [
        {
          "data": {
            "text/plain": [
              "duration\n",
              "1 Season      1791\n",
              "2 Seasons      384\n",
              "3 Seasons      178\n",
              "4 Seasons       89\n",
              "5 Seasons       55\n",
              "6 Seasons       30\n",
              "7 Seasons       18\n",
              "8 Seasons       13\n",
              "9 Seasons        8\n",
              "10 Seasons       5\n",
              "13 Seasons       2\n",
              "15 Seasons       2\n",
              "12 Seasons       2\n",
              "17 Seasons       1\n",
              "Name: count, dtype: int64"
            ]
          },
          "execution_count": 58,
          "metadata": {},
          "output_type": "execute_result"
        }
      ],
      "source": [
        "tv_shows.duration.value_counts()"
      ]
    },
    {
      "cell_type": "markdown",
      "metadata": {
        "id": "LU7jBvVfpTgG"
      },
      "source": [
        "movies and tv_shows have different durations hence changing duration of each asper the req."
      ]
    },
    {
      "cell_type": "code",
      "execution_count": 59,
      "metadata": {
        "id": "asKsVALboBuR"
      },
      "outputs": [],
      "source": [
        "tv_shows['duration'] = tv_shows.duration.str[:-7].apply(lambda x : x.strip())\n",
        "tv_shows['duration'] = tv_shows['duration'].astype('float')\n",
        "movies['duration'] = movies['duration'].str[:-3]\n",
        "movies['duration'] = movies['duration'].astype('float')\n",
        "tv_shows.rename({'duration': 'duration_in_seasons'} ,axis = 1 , inplace = True)\n",
        "movies.rename({'duration': 'duration_in_minutes'} ,axis = 1 , inplace = True)"
      ]
    },
    {
      "cell_type": "code",
      "execution_count": 60,
      "metadata": {
        "colab": {
          "base_uri": "https://localhost:8080/",
          "height": 285
        },
        "id": "mpSTIBp_oBr-",
        "outputId": "cc862615-7e43-447a-96f7-64c2a62f37bf"
      },
      "outputs": [
        {
          "data": {
            "text/html": [
              "<div>\n",
              "<style scoped>\n",
              "    .dataframe tbody tr th:only-of-type {\n",
              "        vertical-align: middle;\n",
              "    }\n",
              "\n",
              "    .dataframe tbody tr th {\n",
              "        vertical-align: top;\n",
              "    }\n",
              "\n",
              "    .dataframe thead th {\n",
              "        text-align: right;\n",
              "    }\n",
              "</style>\n",
              "<table border=\"1\" class=\"dataframe\">\n",
              "  <thead>\n",
              "    <tr style=\"text-align: right;\">\n",
              "      <th></th>\n",
              "      <th>show_id</th>\n",
              "      <th>type</th>\n",
              "      <th>title</th>\n",
              "      <th>director</th>\n",
              "      <th>cast</th>\n",
              "      <th>country</th>\n",
              "      <th>date_added</th>\n",
              "      <th>release_year</th>\n",
              "      <th>rating</th>\n",
              "      <th>duration_in_seasons</th>\n",
              "      <th>listed_in</th>\n",
              "      <th>description</th>\n",
              "      <th>day_added</th>\n",
              "      <th>year_added</th>\n",
              "      <th>month_added</th>\n",
              "    </tr>\n",
              "  </thead>\n",
              "  <tbody>\n",
              "    <tr>\n",
              "      <th>1</th>\n",
              "      <td>s2</td>\n",
              "      <td>TV Show</td>\n",
              "      <td>Blood &amp; Water</td>\n",
              "      <td>NaN</td>\n",
              "      <td>Ama Qamata, Khosi Ngema, Gail Mabalane, Thaban...</td>\n",
              "      <td>South Africa</td>\n",
              "      <td>2021-09-24</td>\n",
              "      <td>2021</td>\n",
              "      <td>TV-MA</td>\n",
              "      <td>2.0</td>\n",
              "      <td>International TV Shows, TV Dramas, TV Mysteries</td>\n",
              "      <td>After crossing paths at a party, a Cape Town t...</td>\n",
              "      <td>24</td>\n",
              "      <td>2021</td>\n",
              "      <td>9</td>\n",
              "    </tr>\n",
              "    <tr>\n",
              "      <th>2</th>\n",
              "      <td>s3</td>\n",
              "      <td>TV Show</td>\n",
              "      <td>Ganglands</td>\n",
              "      <td>Julien Leclercq</td>\n",
              "      <td>Sami Bouajila, Tracy Gotoas, Samuel Jouy, Nabi...</td>\n",
              "      <td>NaN</td>\n",
              "      <td>2021-09-24</td>\n",
              "      <td>2021</td>\n",
              "      <td>TV-MA</td>\n",
              "      <td>1.0</td>\n",
              "      <td>Crime TV Shows, International TV Shows, TV Act...</td>\n",
              "      <td>To protect his family from a powerful drug lor...</td>\n",
              "      <td>24</td>\n",
              "      <td>2021</td>\n",
              "      <td>9</td>\n",
              "    </tr>\n",
              "  </tbody>\n",
              "</table>\n",
              "</div>"
            ],
            "text/plain": [
              "  show_id     type          title         director  \\\n",
              "1      s2  TV Show  Blood & Water              NaN   \n",
              "2      s3  TV Show      Ganglands  Julien Leclercq   \n",
              "\n",
              "                                                cast       country date_added  \\\n",
              "1  Ama Qamata, Khosi Ngema, Gail Mabalane, Thaban...  South Africa 2021-09-24   \n",
              "2  Sami Bouajila, Tracy Gotoas, Samuel Jouy, Nabi...           NaN 2021-09-24   \n",
              "\n",
              "  release_year rating  duration_in_seasons  \\\n",
              "1         2021  TV-MA                  2.0   \n",
              "2         2021  TV-MA                  1.0   \n",
              "\n",
              "                                           listed_in  \\\n",
              "1    International TV Shows, TV Dramas, TV Mysteries   \n",
              "2  Crime TV Shows, International TV Shows, TV Act...   \n",
              "\n",
              "                                         description  day_added  year_added  \\\n",
              "1  After crossing paths at a party, a Cape Town t...         24        2021   \n",
              "2  To protect his family from a powerful drug lor...         24        2021   \n",
              "\n",
              "   month_added  \n",
              "1            9  \n",
              "2            9  "
            ]
          },
          "execution_count": 60,
          "metadata": {},
          "output_type": "execute_result"
        }
      ],
      "source": [
        "tv_shows.head(2)"
      ]
    },
    {
      "cell_type": "code",
      "execution_count": 61,
      "metadata": {
        "colab": {
          "base_uri": "https://localhost:8080/",
          "height": 268
        },
        "id": "_u5DkLyWoBpq",
        "outputId": "9f8f820f-158a-4444-e0cd-39c4be6ea56d"
      },
      "outputs": [
        {
          "data": {
            "text/html": [
              "<div>\n",
              "<style scoped>\n",
              "    .dataframe tbody tr th:only-of-type {\n",
              "        vertical-align: middle;\n",
              "    }\n",
              "\n",
              "    .dataframe tbody tr th {\n",
              "        vertical-align: top;\n",
              "    }\n",
              "\n",
              "    .dataframe thead th {\n",
              "        text-align: right;\n",
              "    }\n",
              "</style>\n",
              "<table border=\"1\" class=\"dataframe\">\n",
              "  <thead>\n",
              "    <tr style=\"text-align: right;\">\n",
              "      <th></th>\n",
              "      <th>show_id</th>\n",
              "      <th>type</th>\n",
              "      <th>title</th>\n",
              "      <th>director</th>\n",
              "      <th>cast</th>\n",
              "      <th>country</th>\n",
              "      <th>date_added</th>\n",
              "      <th>release_year</th>\n",
              "      <th>rating</th>\n",
              "      <th>duration_in_minutes</th>\n",
              "      <th>listed_in</th>\n",
              "      <th>description</th>\n",
              "      <th>day_added</th>\n",
              "      <th>year_added</th>\n",
              "      <th>month_added</th>\n",
              "    </tr>\n",
              "  </thead>\n",
              "  <tbody>\n",
              "    <tr>\n",
              "      <th>0</th>\n",
              "      <td>s1</td>\n",
              "      <td>Movie</td>\n",
              "      <td>Dick Johnson Is Dead</td>\n",
              "      <td>Kirsten Johnson</td>\n",
              "      <td>NaN</td>\n",
              "      <td>United States</td>\n",
              "      <td>2021-09-25</td>\n",
              "      <td>2020</td>\n",
              "      <td>PG-13</td>\n",
              "      <td>90.0</td>\n",
              "      <td>Documentaries</td>\n",
              "      <td>As her father nears the end of his life, filmm...</td>\n",
              "      <td>25</td>\n",
              "      <td>2021</td>\n",
              "      <td>9</td>\n",
              "    </tr>\n",
              "    <tr>\n",
              "      <th>6</th>\n",
              "      <td>s7</td>\n",
              "      <td>Movie</td>\n",
              "      <td>My Little Pony: A New Generation</td>\n",
              "      <td>Robert Cullen, José Luis Ucha</td>\n",
              "      <td>Vanessa Hudgens, Kimiko Glenn, James Marsden, ...</td>\n",
              "      <td>NaN</td>\n",
              "      <td>2021-09-24</td>\n",
              "      <td>2021</td>\n",
              "      <td>PG</td>\n",
              "      <td>91.0</td>\n",
              "      <td>Children &amp; Family Movies</td>\n",
              "      <td>Equestria's divided. But a bright-eyed hero be...</td>\n",
              "      <td>24</td>\n",
              "      <td>2021</td>\n",
              "      <td>9</td>\n",
              "    </tr>\n",
              "  </tbody>\n",
              "</table>\n",
              "</div>"
            ],
            "text/plain": [
              "  show_id   type                             title  \\\n",
              "0      s1  Movie              Dick Johnson Is Dead   \n",
              "6      s7  Movie  My Little Pony: A New Generation   \n",
              "\n",
              "                        director  \\\n",
              "0                Kirsten Johnson   \n",
              "6  Robert Cullen, José Luis Ucha   \n",
              "\n",
              "                                                cast        country  \\\n",
              "0                                                NaN  United States   \n",
              "6  Vanessa Hudgens, Kimiko Glenn, James Marsden, ...            NaN   \n",
              "\n",
              "  date_added release_year rating  duration_in_minutes  \\\n",
              "0 2021-09-25         2020  PG-13                 90.0   \n",
              "6 2021-09-24         2021     PG                 91.0   \n",
              "\n",
              "                  listed_in  \\\n",
              "0             Documentaries   \n",
              "6  Children & Family Movies   \n",
              "\n",
              "                                         description  day_added  year_added  \\\n",
              "0  As her father nears the end of his life, filmm...         25        2021   \n",
              "6  Equestria's divided. But a bright-eyed hero be...         24        2021   \n",
              "\n",
              "   month_added  \n",
              "0            9  \n",
              "6            9  "
            ]
          },
          "execution_count": 61,
          "metadata": {},
          "output_type": "execute_result"
        }
      ],
      "source": [
        "movies.head(2)"
      ]
    },
    {
      "cell_type": "markdown",
      "metadata": {
        "id": "uZ8zxLSRqmpX"
      },
      "source": [
        "when was first movie added on netflix and when is the most recent movie added on netflix as per data i.e. dataset duration\n",
        "\n",
        "and when they were actually released"
      ]
    },
    {
      "cell_type": "code",
      "execution_count": 62,
      "metadata": {
        "colab": {
          "base_uri": "https://localhost:8080/",
          "height": 125
        },
        "id": "TZZs9jVBoBnQ",
        "outputId": "d1e9d0eb-dd21-4d63-b84b-3c5b046fe63c"
      },
      "outputs": [
        {
          "data": {
            "text/html": [
              "<div>\n",
              "<style scoped>\n",
              "    .dataframe tbody tr th:only-of-type {\n",
              "        vertical-align: middle;\n",
              "    }\n",
              "\n",
              "    .dataframe tbody tr th {\n",
              "        vertical-align: top;\n",
              "    }\n",
              "\n",
              "    .dataframe thead th {\n",
              "        text-align: right;\n",
              "    }\n",
              "</style>\n",
              "<table border=\"1\" class=\"dataframe\">\n",
              "  <thead>\n",
              "    <tr style=\"text-align: right;\">\n",
              "      <th></th>\n",
              "      <th>Date Added</th>\n",
              "      <th>Released Year</th>\n",
              "    </tr>\n",
              "  </thead>\n",
              "  <tbody>\n",
              "    <tr>\n",
              "      <th>0</th>\n",
              "      <td>January 2008</td>\n",
              "      <td>1925</td>\n",
              "    </tr>\n",
              "    <tr>\n",
              "      <th>1</th>\n",
              "      <td>September 2021</td>\n",
              "      <td>2021</td>\n",
              "    </tr>\n",
              "  </tbody>\n",
              "</table>\n",
              "</div>"
            ],
            "text/plain": [
              "       Date Added  Released Year\n",
              "0    January 2008           1925\n",
              "1  September 2021           2021"
            ]
          },
          "execution_count": 62,
          "metadata": {},
          "output_type": "execute_result"
        }
      ],
      "source": [
        "timeperiod = pd.DataFrame({'Date Added': [df['date_added'].min().strftime('%B %Y'),\n",
        "                                          df['date_added'].max().strftime('%B %Y')],\n",
        "                           'Released Year': [df[\"release_year\"].min(), df[\"release_year\"].max()]\n",
        "})\n",
        "\n",
        "\n",
        "timeperiod"
      ]
    },
    {
      "cell_type": "markdown",
      "metadata": {
        "id": "V_YOfT--uXcc"
      },
      "source": [
        "different ratings for each type of content"
      ]
    },
    {
      "cell_type": "code",
      "execution_count": 63,
      "metadata": {
        "colab": {
          "base_uri": "https://localhost:8080/"
        },
        "id": "xqMIUuUzoBkk",
        "outputId": "6231a7c6-74e6-455c-eda5-043e16080332"
      },
      "outputs": [
        {
          "data": {
            "text/plain": [
              "type     rating       \n",
              "Movie    G                  41\n",
              "         NC-17               3\n",
              "         NR                 75\n",
              "         Not Available       5\n",
              "         PG                287\n",
              "         PG-13             490\n",
              "         R                 797\n",
              "         TV-14            1427\n",
              "         TV-G              126\n",
              "         TV-MA            2062\n",
              "         TV-PG             540\n",
              "         TV-Y              131\n",
              "         TV-Y7             139\n",
              "         TV-Y7-FV            5\n",
              "TV Show  NR                  3\n",
              "         Not Available       2\n",
              "         R                   2\n",
              "         TV-14             706\n",
              "         TV-G               86\n",
              "         TV-MA            1121\n",
              "         TV-PG             298\n",
              "         TV-Y              169\n",
              "         TV-Y7             191\n",
              "Name: show_id, dtype: int64"
            ]
          },
          "execution_count": 63,
          "metadata": {},
          "output_type": "execute_result"
        }
      ],
      "source": [
        "df.groupby(['type' , 'rating'])['show_id'].count()"
      ]
    },
    {
      "cell_type": "markdown",
      "metadata": {
        "id": "270-G4aWu2r3"
      },
      "source": [
        "percent of NULL value in each column"
      ]
    },
    {
      "cell_type": "code",
      "execution_count": 64,
      "metadata": {
        "colab": {
          "base_uri": "https://localhost:8080/"
        },
        "id": "lKZDrmHdoBiQ",
        "outputId": "367ef15d-c210-45cd-e8ec-6a43bfaeef5e"
      },
      "outputs": [
        {
          "data": {
            "text/plain": [
              "show_id          0.0\n",
              "type             0.0\n",
              "title            0.0\n",
              "director        29.0\n",
              "cast             9.0\n",
              "country          9.0\n",
              "date_added       0.0\n",
              "release_year     0.0\n",
              "rating           0.0\n",
              "duration         0.0\n",
              "listed_in        0.0\n",
              "description      0.0\n",
              "day_added        0.0\n",
              "year_added       0.0\n",
              "month_added      0.0\n",
              "dtype: float64"
            ]
          },
          "execution_count": 64,
          "metadata": {},
          "output_type": "execute_result"
        }
      ],
      "source": [
        "round((df.isna().sum()/ df.shape[0])*100)"
      ]
    },
    {
      "cell_type": "markdown",
      "metadata": {
        "id": "UC8myNaIu-4h"
      },
      "source": [
        "\n",
        "\n",
        "*   country column\n",
        "\n",
        "\n"
      ]
    },
    {
      "cell_type": "code",
      "execution_count": 65,
      "metadata": {
        "colab": {
          "base_uri": "https://localhost:8080/"
        },
        "id": "rTVQXWl-oBf7",
        "outputId": "0c1bb632-5398-45e2-8d22-513787d86e67"
      },
      "outputs": [
        {
          "data": {
            "text/plain": [
              "country\n",
              "United States                   2777\n",
              "India                            971\n",
              "United Kingdom                   403\n",
              "Japan                            241\n",
              "South Korea                      195\n",
              "                                ... \n",
              "Philippines, United States         1\n",
              "Romania, Bulgaria, Hungary         1\n",
              "Uruguay, Guatemala                 1\n",
              "France, Senegal, Belgium           1\n",
              "United Arab Emirates, Jordan       1\n",
              "Name: count, Length: 746, dtype: int64"
            ]
          },
          "execution_count": 65,
          "metadata": {},
          "output_type": "execute_result"
        }
      ],
      "source": [
        "df.country.value_counts()"
      ]
    },
    {
      "cell_type": "markdown",
      "metadata": {
        "id": "a3c3FVu9vSdl"
      },
      "source": [
        "there are many countries seperated by comma in one row. so exploding it ti get the real value count as we can see that many movies are produced in more than 1 country."
      ]
    },
    {
      "cell_type": "code",
      "execution_count": 66,
      "metadata": {
        "colab": {
          "base_uri": "https://localhost:8080/",
          "height": 423
        },
        "id": "xcArLYFyvSUC",
        "outputId": "d31e347e-f3df-4074-f023-430b852bc292"
      },
      "outputs": [
        {
          "data": {
            "text/html": [
              "<div>\n",
              "<style scoped>\n",
              "    .dataframe tbody tr th:only-of-type {\n",
              "        vertical-align: middle;\n",
              "    }\n",
              "\n",
              "    .dataframe tbody tr th {\n",
              "        vertical-align: top;\n",
              "    }\n",
              "\n",
              "    .dataframe thead th {\n",
              "        text-align: right;\n",
              "    }\n",
              "</style>\n",
              "<table border=\"1\" class=\"dataframe\">\n",
              "  <thead>\n",
              "    <tr style=\"text-align: right;\">\n",
              "      <th></th>\n",
              "      <th>show_id</th>\n",
              "      <th>type</th>\n",
              "      <th>country</th>\n",
              "    </tr>\n",
              "  </thead>\n",
              "  <tbody>\n",
              "    <tr>\n",
              "      <th>0</th>\n",
              "      <td>s1</td>\n",
              "      <td>Movie</td>\n",
              "      <td>United States</td>\n",
              "    </tr>\n",
              "    <tr>\n",
              "      <th>1</th>\n",
              "      <td>s2</td>\n",
              "      <td>TV Show</td>\n",
              "      <td>South Africa</td>\n",
              "    </tr>\n",
              "    <tr>\n",
              "      <th>4</th>\n",
              "      <td>s5</td>\n",
              "      <td>TV Show</td>\n",
              "      <td>India</td>\n",
              "    </tr>\n",
              "    <tr>\n",
              "      <th>7</th>\n",
              "      <td>s8</td>\n",
              "      <td>Movie</td>\n",
              "      <td>United States</td>\n",
              "    </tr>\n",
              "    <tr>\n",
              "      <th>7</th>\n",
              "      <td>s8</td>\n",
              "      <td>Movie</td>\n",
              "      <td>Ghana</td>\n",
              "    </tr>\n",
              "    <tr>\n",
              "      <th>...</th>\n",
              "      <td>...</td>\n",
              "      <td>...</td>\n",
              "      <td>...</td>\n",
              "    </tr>\n",
              "    <tr>\n",
              "      <th>8801</th>\n",
              "      <td>s8802</td>\n",
              "      <td>Movie</td>\n",
              "      <td>Jordan</td>\n",
              "    </tr>\n",
              "    <tr>\n",
              "      <th>8802</th>\n",
              "      <td>s8803</td>\n",
              "      <td>Movie</td>\n",
              "      <td>United States</td>\n",
              "    </tr>\n",
              "    <tr>\n",
              "      <th>8804</th>\n",
              "      <td>s8805</td>\n",
              "      <td>Movie</td>\n",
              "      <td>United States</td>\n",
              "    </tr>\n",
              "    <tr>\n",
              "      <th>8805</th>\n",
              "      <td>s8806</td>\n",
              "      <td>Movie</td>\n",
              "      <td>United States</td>\n",
              "    </tr>\n",
              "    <tr>\n",
              "      <th>8806</th>\n",
              "      <td>s8807</td>\n",
              "      <td>Movie</td>\n",
              "      <td>India</td>\n",
              "    </tr>\n",
              "  </tbody>\n",
              "</table>\n",
              "<p>9904 rows × 3 columns</p>\n",
              "</div>"
            ],
            "text/plain": [
              "     show_id     type        country\n",
              "0         s1    Movie  United States\n",
              "1         s2  TV Show   South Africa\n",
              "4         s5  TV Show          India\n",
              "7         s8    Movie  United States\n",
              "7         s8    Movie          Ghana\n",
              "...      ...      ...            ...\n",
              "8801   s8802    Movie         Jordan\n",
              "8802   s8803    Movie  United States\n",
              "8804   s8805    Movie  United States\n",
              "8805   s8806    Movie  United States\n",
              "8806   s8807    Movie          India\n",
              "\n",
              "[9904 rows x 3 columns]"
            ]
          },
          "execution_count": 66,
          "metadata": {},
          "output_type": "execute_result"
        }
      ],
      "source": [
        "country_tb = df[['show_id' , 'type' , 'country']]\n",
        "country_tb.dropna(inplace = True)\n",
        "country_tb['country'] = country_tb['country'].apply(lambda x : x.split(', '))\n",
        "country_tb = country_tb.explode('country')\n",
        "country_tb"
      ]
    },
    {
      "cell_type": "code",
      "execution_count": 67,
      "metadata": {
        "colab": {
          "base_uri": "https://localhost:8080/"
        },
        "id": "aljuITRavSRw",
        "outputId": "470f3d2d-ed98-4765-e1b5-53025cfc2fa6"
      },
      "outputs": [
        {
          "data": {
            "text/plain": [
              "country\n",
              "United States     3641\n",
              "India             1045\n",
              "United Kingdom     784\n",
              "Canada             432\n",
              "France             387\n",
              "                  ... \n",
              "Ecuador              1\n",
              "Not Available        1\n",
              "Armenia              1\n",
              "Belarus              1\n",
              "Montenegro           1\n",
              "Name: count, Length: 128, dtype: int64"
            ]
          },
          "execution_count": 67,
          "metadata": {},
          "output_type": "execute_result"
        }
      ],
      "source": [
        "country_tb.country.value_counts()"
      ]
    },
    {
      "cell_type": "code",
      "execution_count": 68,
      "metadata": {
        "colab": {
          "base_uri": "https://localhost:8080/"
        },
        "id": "CUf8fxbRvSPd",
        "outputId": "7015d1f0-bdf7-4c73-99a7-33fa6dd13d1e"
      },
      "outputs": [
        {
          "data": {
            "text/plain": [
              "128"
            ]
          },
          "execution_count": 68,
          "metadata": {},
          "output_type": "execute_result"
        }
      ],
      "source": [
        "country_tb.country.nunique()"
      ]
    },
    {
      "cell_type": "markdown",
      "metadata": {
        "id": "JiG5QyT5xwy5"
      },
      "source": [
        "checking for any blank country"
      ]
    },
    {
      "cell_type": "code",
      "execution_count": 69,
      "metadata": {
        "colab": {
          "base_uri": "https://localhost:8080/",
          "height": 112
        },
        "id": "CjEov6owvSNO",
        "outputId": "e33eeacc-4ae2-4aaf-dc3d-18621ee18bde"
      },
      "outputs": [
        {
          "data": {
            "text/html": [
              "<div>\n",
              "<style scoped>\n",
              "    .dataframe tbody tr th:only-of-type {\n",
              "        vertical-align: middle;\n",
              "    }\n",
              "\n",
              "    .dataframe tbody tr th {\n",
              "        vertical-align: top;\n",
              "    }\n",
              "\n",
              "    .dataframe thead th {\n",
              "        text-align: right;\n",
              "    }\n",
              "</style>\n",
              "<table border=\"1\" class=\"dataframe\">\n",
              "  <thead>\n",
              "    <tr style=\"text-align: right;\">\n",
              "      <th></th>\n",
              "      <th>show_id</th>\n",
              "      <th>type</th>\n",
              "      <th>country</th>\n",
              "    </tr>\n",
              "  </thead>\n",
              "  <tbody>\n",
              "    <tr>\n",
              "      <th>193</th>\n",
              "      <td>s194</td>\n",
              "      <td>TV Show</td>\n",
              "      <td></td>\n",
              "    </tr>\n",
              "    <tr>\n",
              "      <th>365</th>\n",
              "      <td>s366</td>\n",
              "      <td>Movie</td>\n",
              "      <td></td>\n",
              "    </tr>\n",
              "  </tbody>\n",
              "</table>\n",
              "</div>"
            ],
            "text/plain": [
              "    show_id     type country\n",
              "193    s194  TV Show        \n",
              "365    s366    Movie        "
            ]
          },
          "execution_count": 69,
          "metadata": {},
          "output_type": "execute_result"
        }
      ],
      "source": [
        "country_tb.loc[country_tb['country'] == '']"
      ]
    },
    {
      "cell_type": "code",
      "execution_count": 70,
      "metadata": {
        "id": "yjw5psjxvSKv"
      },
      "outputs": [],
      "source": [
        "country_tb = country_tb.loc[country_tb['country'] != '']"
      ]
    },
    {
      "cell_type": "code",
      "execution_count": 71,
      "metadata": {
        "colab": {
          "base_uri": "https://localhost:8080/"
        },
        "id": "fXSFFnievSGT",
        "outputId": "161b5fb7-e4fe-4040-a914-b1b505f22212"
      },
      "outputs": [
        {
          "data": {
            "text/plain": [
              "127"
            ]
          },
          "execution_count": 71,
          "metadata": {},
          "output_type": "execute_result"
        }
      ],
      "source": [
        "country_tb['country'].nunique()"
      ]
    },
    {
      "cell_type": "markdown",
      "metadata": {
        "id": "0gfZrLTAx5a_"
      },
      "source": [
        "hence w can say that netflix is presnt in 127 country"
      ]
    },
    {
      "cell_type": "markdown",
      "metadata": {
        "id": "x1yvscoKyHIA"
      },
      "source": [
        "FINDING total movies and tv shows in each country."
      ]
    },
    {
      "cell_type": "code",
      "execution_count": 72,
      "metadata": {
        "colab": {
          "base_uri": "https://localhost:8080/",
          "height": 423
        },
        "id": "G5q-XnUzvSEL",
        "outputId": "59860488-cd43-48f3-d456-6a4af7945dfc"
      },
      "outputs": [
        {
          "data": {
            "text/html": [
              "<div>\n",
              "<style scoped>\n",
              "    .dataframe tbody tr th:only-of-type {\n",
              "        vertical-align: middle;\n",
              "    }\n",
              "\n",
              "    .dataframe tbody tr th {\n",
              "        vertical-align: top;\n",
              "    }\n",
              "\n",
              "    .dataframe thead th {\n",
              "        text-align: right;\n",
              "    }\n",
              "</style>\n",
              "<table border=\"1\" class=\"dataframe\">\n",
              "  <thead>\n",
              "    <tr style=\"text-align: right;\">\n",
              "      <th></th>\n",
              "      <th>country</th>\n",
              "      <th>type</th>\n",
              "      <th>show_id</th>\n",
              "    </tr>\n",
              "  </thead>\n",
              "  <tbody>\n",
              "    <tr>\n",
              "      <th>0</th>\n",
              "      <td>Afghanistan</td>\n",
              "      <td>Movie</td>\n",
              "      <td>1</td>\n",
              "    </tr>\n",
              "    <tr>\n",
              "      <th>1</th>\n",
              "      <td>Albania</td>\n",
              "      <td>Movie</td>\n",
              "      <td>1</td>\n",
              "    </tr>\n",
              "    <tr>\n",
              "      <th>2</th>\n",
              "      <td>Algeria</td>\n",
              "      <td>Movie</td>\n",
              "      <td>3</td>\n",
              "    </tr>\n",
              "    <tr>\n",
              "      <th>3</th>\n",
              "      <td>Angola</td>\n",
              "      <td>Movie</td>\n",
              "      <td>1</td>\n",
              "    </tr>\n",
              "    <tr>\n",
              "      <th>4</th>\n",
              "      <td>Argentina</td>\n",
              "      <td>Movie</td>\n",
              "      <td>71</td>\n",
              "    </tr>\n",
              "    <tr>\n",
              "      <th>...</th>\n",
              "      <td>...</td>\n",
              "      <td>...</td>\n",
              "      <td>...</td>\n",
              "    </tr>\n",
              "    <tr>\n",
              "      <th>182</th>\n",
              "      <td>Venezuela</td>\n",
              "      <td>Movie</td>\n",
              "      <td>4</td>\n",
              "    </tr>\n",
              "    <tr>\n",
              "      <th>183</th>\n",
              "      <td>Vietnam</td>\n",
              "      <td>Movie</td>\n",
              "      <td>7</td>\n",
              "    </tr>\n",
              "    <tr>\n",
              "      <th>184</th>\n",
              "      <td>West Germany</td>\n",
              "      <td>Movie</td>\n",
              "      <td>3</td>\n",
              "    </tr>\n",
              "    <tr>\n",
              "      <th>185</th>\n",
              "      <td>West Germany</td>\n",
              "      <td>TV Show</td>\n",
              "      <td>2</td>\n",
              "    </tr>\n",
              "    <tr>\n",
              "      <th>186</th>\n",
              "      <td>Zimbabwe</td>\n",
              "      <td>Movie</td>\n",
              "      <td>3</td>\n",
              "    </tr>\n",
              "  </tbody>\n",
              "</table>\n",
              "<p>187 rows × 3 columns</p>\n",
              "</div>"
            ],
            "text/plain": [
              "          country     type  show_id\n",
              "0     Afghanistan    Movie        1\n",
              "1         Albania    Movie        1\n",
              "2         Algeria    Movie        3\n",
              "3          Angola    Movie        1\n",
              "4       Argentina    Movie       71\n",
              "..            ...      ...      ...\n",
              "182     Venezuela    Movie        4\n",
              "183       Vietnam    Movie        7\n",
              "184  West Germany    Movie        3\n",
              "185  West Germany  TV Show        2\n",
              "186      Zimbabwe    Movie        3\n",
              "\n",
              "[187 rows x 3 columns]"
            ]
          },
          "execution_count": 72,
          "metadata": {},
          "output_type": "execute_result"
        }
      ],
      "source": [
        "movie_tv_div= country_tb.groupby(['country' , 'type'])['show_id'].count().reset_index()\n",
        "movie_tv_div"
      ]
    },
    {
      "cell_type": "code",
      "execution_count": 73,
      "metadata": {
        "colab": {
          "base_uri": "https://localhost:8080/",
          "height": 455
        },
        "id": "2uDQI60JvSB7",
        "outputId": "171deb09-29ec-49c5-9953-87a3fa9a2116"
      },
      "outputs": [
        {
          "data": {
            "text/html": [
              "<div>\n",
              "<style scoped>\n",
              "    .dataframe tbody tr th:only-of-type {\n",
              "        vertical-align: middle;\n",
              "    }\n",
              "\n",
              "    .dataframe tbody tr th {\n",
              "        vertical-align: top;\n",
              "    }\n",
              "\n",
              "    .dataframe thead th {\n",
              "        text-align: right;\n",
              "    }\n",
              "</style>\n",
              "<table border=\"1\" class=\"dataframe\">\n",
              "  <thead>\n",
              "    <tr style=\"text-align: right;\">\n",
              "      <th>type</th>\n",
              "      <th>Movie</th>\n",
              "      <th>TV Show</th>\n",
              "    </tr>\n",
              "    <tr>\n",
              "      <th>country</th>\n",
              "      <th></th>\n",
              "      <th></th>\n",
              "    </tr>\n",
              "  </thead>\n",
              "  <tbody>\n",
              "    <tr>\n",
              "      <th>United States</th>\n",
              "      <td>2750.0</td>\n",
              "      <td>891.0</td>\n",
              "    </tr>\n",
              "    <tr>\n",
              "      <th>India</th>\n",
              "      <td>962.0</td>\n",
              "      <td>83.0</td>\n",
              "    </tr>\n",
              "    <tr>\n",
              "      <th>United Kingdom</th>\n",
              "      <td>531.0</td>\n",
              "      <td>253.0</td>\n",
              "    </tr>\n",
              "    <tr>\n",
              "      <th>Canada</th>\n",
              "      <td>319.0</td>\n",
              "      <td>113.0</td>\n",
              "    </tr>\n",
              "    <tr>\n",
              "      <th>France</th>\n",
              "      <td>301.0</td>\n",
              "      <td>86.0</td>\n",
              "    </tr>\n",
              "    <tr>\n",
              "      <th>...</th>\n",
              "      <td>...</td>\n",
              "      <td>...</td>\n",
              "    </tr>\n",
              "    <tr>\n",
              "      <th>Azerbaijan</th>\n",
              "      <td>NaN</td>\n",
              "      <td>1.0</td>\n",
              "    </tr>\n",
              "    <tr>\n",
              "      <th>Belarus</th>\n",
              "      <td>NaN</td>\n",
              "      <td>1.0</td>\n",
              "    </tr>\n",
              "    <tr>\n",
              "      <th>Cuba</th>\n",
              "      <td>NaN</td>\n",
              "      <td>1.0</td>\n",
              "    </tr>\n",
              "    <tr>\n",
              "      <th>Cyprus</th>\n",
              "      <td>NaN</td>\n",
              "      <td>1.0</td>\n",
              "    </tr>\n",
              "    <tr>\n",
              "      <th>Puerto Rico</th>\n",
              "      <td>NaN</td>\n",
              "      <td>1.0</td>\n",
              "    </tr>\n",
              "  </tbody>\n",
              "</table>\n",
              "<p>127 rows × 2 columns</p>\n",
              "</div>"
            ],
            "text/plain": [
              "type             Movie  TV Show\n",
              "country                        \n",
              "United States   2750.0    891.0\n",
              "India            962.0     83.0\n",
              "United Kingdom   531.0    253.0\n",
              "Canada           319.0    113.0\n",
              "France           301.0     86.0\n",
              "...                ...      ...\n",
              "Azerbaijan         NaN      1.0\n",
              "Belarus            NaN      1.0\n",
              "Cuba               NaN      1.0\n",
              "Cyprus             NaN      1.0\n",
              "Puerto Rico        NaN      1.0\n",
              "\n",
              "[127 rows x 2 columns]"
            ]
          },
          "execution_count": 73,
          "metadata": {},
          "output_type": "execute_result"
        }
      ],
      "source": [
        "movie_tv_div=movie_tv_div.pivot(index = ['country'] , columns = 'type' , values = 'show_id').sort_values('Movie',ascending = False)\n",
        "movie_tv_div"
      ]
    },
    {
      "cell_type": "markdown",
      "metadata": {
        "id": "g0EUm-I-y_ql"
      },
      "source": [
        "now lets check director  column\n",
        "\n"
      ]
    },
    {
      "cell_type": "code",
      "execution_count": 74,
      "metadata": {
        "colab": {
          "base_uri": "https://localhost:8080/"
        },
        "id": "OtC9Ca1UvR_O",
        "outputId": "bd0dbc49-24cb-49e1-8c1a-5ede0860b044"
      },
      "outputs": [
        {
          "data": {
            "text/plain": [
              "director\n",
              "Rajiv Chilaka                     19\n",
              "Raúl Campos, Jan Suter            18\n",
              "Marcus Raboy                      16\n",
              "Suhas Kadav                       16\n",
              "Jay Karas                         14\n",
              "                                  ..\n",
              "Scott McAboy                       1\n",
              "Raymie Muzquiz, Stu Livingston     1\n",
              "Joe Menendez                       1\n",
              "Eric Bross                         1\n",
              "Mozez Singh                        1\n",
              "Name: count, Length: 4524, dtype: int64"
            ]
          },
          "execution_count": 74,
          "metadata": {},
          "output_type": "execute_result"
        }
      ],
      "source": [
        "df['director'].value_counts()"
      ]
    },
    {
      "cell_type": "markdown",
      "metadata": {
        "id": "TMnruKDBzNw-"
      },
      "source": [
        "exploding movies same as we did with countries and also dropping NAn values."
      ]
    },
    {
      "cell_type": "code",
      "execution_count": 75,
      "metadata": {
        "id": "gLZEO6gMvR8m"
      },
      "outputs": [],
      "source": [
        "dir_tb = df[['show_id' , 'type' , 'director']]\n",
        "dir_tb.dropna(inplace = True)\n",
        "dir_tb['director'] = dir_tb['director'].apply(lambda x : x.split(', '))\n",
        "dir_tb = dir_tb.explode('director')"
      ]
    },
    {
      "cell_type": "code",
      "execution_count": 76,
      "metadata": {
        "colab": {
          "base_uri": "https://localhost:8080/",
          "height": 423
        },
        "id": "rv8jLgdWvR6f",
        "outputId": "ab4d2c8b-77ec-4d45-b10e-11dcc8e1540e"
      },
      "outputs": [
        {
          "data": {
            "text/html": [
              "<div>\n",
              "<style scoped>\n",
              "    .dataframe tbody tr th:only-of-type {\n",
              "        vertical-align: middle;\n",
              "    }\n",
              "\n",
              "    .dataframe tbody tr th {\n",
              "        vertical-align: top;\n",
              "    }\n",
              "\n",
              "    .dataframe thead th {\n",
              "        text-align: right;\n",
              "    }\n",
              "</style>\n",
              "<table border=\"1\" class=\"dataframe\">\n",
              "  <thead>\n",
              "    <tr style=\"text-align: right;\">\n",
              "      <th></th>\n",
              "      <th>show_id</th>\n",
              "      <th>type</th>\n",
              "      <th>director</th>\n",
              "    </tr>\n",
              "  </thead>\n",
              "  <tbody>\n",
              "    <tr>\n",
              "      <th>0</th>\n",
              "      <td>s1</td>\n",
              "      <td>Movie</td>\n",
              "      <td>Kirsten Johnson</td>\n",
              "    </tr>\n",
              "    <tr>\n",
              "      <th>2</th>\n",
              "      <td>s3</td>\n",
              "      <td>TV Show</td>\n",
              "      <td>Julien Leclercq</td>\n",
              "    </tr>\n",
              "    <tr>\n",
              "      <th>5</th>\n",
              "      <td>s6</td>\n",
              "      <td>TV Show</td>\n",
              "      <td>Mike Flanagan</td>\n",
              "    </tr>\n",
              "    <tr>\n",
              "      <th>6</th>\n",
              "      <td>s7</td>\n",
              "      <td>Movie</td>\n",
              "      <td>Robert Cullen</td>\n",
              "    </tr>\n",
              "    <tr>\n",
              "      <th>6</th>\n",
              "      <td>s7</td>\n",
              "      <td>Movie</td>\n",
              "      <td>José Luis Ucha</td>\n",
              "    </tr>\n",
              "    <tr>\n",
              "      <th>...</th>\n",
              "      <td>...</td>\n",
              "      <td>...</td>\n",
              "      <td>...</td>\n",
              "    </tr>\n",
              "    <tr>\n",
              "      <th>8801</th>\n",
              "      <td>s8802</td>\n",
              "      <td>Movie</td>\n",
              "      <td>Majid Al Ansari</td>\n",
              "    </tr>\n",
              "    <tr>\n",
              "      <th>8802</th>\n",
              "      <td>s8803</td>\n",
              "      <td>Movie</td>\n",
              "      <td>David Fincher</td>\n",
              "    </tr>\n",
              "    <tr>\n",
              "      <th>8804</th>\n",
              "      <td>s8805</td>\n",
              "      <td>Movie</td>\n",
              "      <td>Ruben Fleischer</td>\n",
              "    </tr>\n",
              "    <tr>\n",
              "      <th>8805</th>\n",
              "      <td>s8806</td>\n",
              "      <td>Movie</td>\n",
              "      <td>Peter Hewitt</td>\n",
              "    </tr>\n",
              "    <tr>\n",
              "      <th>8806</th>\n",
              "      <td>s8807</td>\n",
              "      <td>Movie</td>\n",
              "      <td>Mozez Singh</td>\n",
              "    </tr>\n",
              "  </tbody>\n",
              "</table>\n",
              "<p>6972 rows × 3 columns</p>\n",
              "</div>"
            ],
            "text/plain": [
              "     show_id     type         director\n",
              "0         s1    Movie  Kirsten Johnson\n",
              "2         s3  TV Show  Julien Leclercq\n",
              "5         s6  TV Show    Mike Flanagan\n",
              "6         s7    Movie    Robert Cullen\n",
              "6         s7    Movie   José Luis Ucha\n",
              "...      ...      ...              ...\n",
              "8801   s8802    Movie  Majid Al Ansari\n",
              "8802   s8803    Movie    David Fincher\n",
              "8804   s8805    Movie  Ruben Fleischer\n",
              "8805   s8806    Movie     Peter Hewitt\n",
              "8806   s8807    Movie      Mozez Singh\n",
              "\n",
              "[6972 rows x 3 columns]"
            ]
          },
          "execution_count": 76,
          "metadata": {},
          "output_type": "execute_result"
        }
      ],
      "source": [
        "dir_tb"
      ]
    },
    {
      "cell_type": "code",
      "execution_count": 77,
      "metadata": {
        "colab": {
          "base_uri": "https://localhost:8080/"
        },
        "id": "Td8YrRlPvR4U",
        "outputId": "2d09956e-18d1-4bf2-9196-ba147f9e3125"
      },
      "outputs": [
        {
          "data": {
            "text/plain": [
              "director\n",
              "False    6972\n",
              "Name: count, dtype: int64"
            ]
          },
          "execution_count": 77,
          "metadata": {},
          "output_type": "execute_result"
        }
      ],
      "source": [
        "#checking if there is any blank resent in director\n",
        "dir_tb.director.apply(lambda x : True if len(x) == 0 else False).value_counts()"
      ]
    },
    {
      "cell_type": "markdown",
      "metadata": {
        "id": "BVl6bMaf0FK3"
      },
      "source": [
        "total number of rows and false is equal.\n"
      ]
    },
    {
      "cell_type": "code",
      "execution_count": 78,
      "metadata": {
        "colab": {
          "base_uri": "https://localhost:8080/"
        },
        "id": "BhaRtDOgvR14",
        "outputId": "943cfdd5-d764-4c9a-977d-701f6af3aef8"
      },
      "outputs": [
        {
          "data": {
            "text/plain": [
              "4989"
            ]
          },
          "execution_count": 78,
          "metadata": {},
          "output_type": "execute_result"
        }
      ],
      "source": [
        "dir_tb['director'].nunique()"
      ]
    },
    {
      "cell_type": "markdown",
      "metadata": {
        "id": "rfN4SS6n0a6p"
      },
      "source": [
        "finding total number of movies and tv_show related to each director."
      ]
    },
    {
      "cell_type": "code",
      "execution_count": 79,
      "metadata": {
        "colab": {
          "base_uri": "https://localhost:8080/",
          "height": 455
        },
        "id": "NnLcAKb_0Qz3",
        "outputId": "46a6a478-683e-4ebd-8ec2-03ea808e054a"
      },
      "outputs": [
        {
          "data": {
            "text/html": [
              "<div>\n",
              "<style scoped>\n",
              "    .dataframe tbody tr th:only-of-type {\n",
              "        vertical-align: middle;\n",
              "    }\n",
              "\n",
              "    .dataframe tbody tr th {\n",
              "        vertical-align: top;\n",
              "    }\n",
              "\n",
              "    .dataframe thead th {\n",
              "        text-align: right;\n",
              "    }\n",
              "</style>\n",
              "<table border=\"1\" class=\"dataframe\">\n",
              "  <thead>\n",
              "    <tr style=\"text-align: right;\">\n",
              "      <th>type</th>\n",
              "      <th>Movie</th>\n",
              "      <th>TV Show</th>\n",
              "    </tr>\n",
              "    <tr>\n",
              "      <th>director</th>\n",
              "      <th></th>\n",
              "      <th></th>\n",
              "    </tr>\n",
              "  </thead>\n",
              "  <tbody>\n",
              "    <tr>\n",
              "      <th>Rajiv Chilaka</th>\n",
              "      <td>22.0</td>\n",
              "      <td>NaN</td>\n",
              "    </tr>\n",
              "    <tr>\n",
              "      <th>Jan Suter</th>\n",
              "      <td>21.0</td>\n",
              "      <td>NaN</td>\n",
              "    </tr>\n",
              "    <tr>\n",
              "      <th>Raúl Campos</th>\n",
              "      <td>19.0</td>\n",
              "      <td>NaN</td>\n",
              "    </tr>\n",
              "    <tr>\n",
              "      <th>Suhas Kadav</th>\n",
              "      <td>16.0</td>\n",
              "      <td>NaN</td>\n",
              "    </tr>\n",
              "    <tr>\n",
              "      <th>Marcus Raboy</th>\n",
              "      <td>15.0</td>\n",
              "      <td>1.0</td>\n",
              "    </tr>\n",
              "    <tr>\n",
              "      <th>...</th>\n",
              "      <td>...</td>\n",
              "      <td>...</td>\n",
              "    </tr>\n",
              "    <tr>\n",
              "      <th>Vijay S. Bhanushali</th>\n",
              "      <td>NaN</td>\n",
              "      <td>1.0</td>\n",
              "    </tr>\n",
              "    <tr>\n",
              "      <th>Wouter Bouvijn</th>\n",
              "      <td>NaN</td>\n",
              "      <td>1.0</td>\n",
              "    </tr>\n",
              "    <tr>\n",
              "      <th>YC Tom Lee</th>\n",
              "      <td>NaN</td>\n",
              "      <td>1.0</td>\n",
              "    </tr>\n",
              "    <tr>\n",
              "      <th>Yasuhiro Irie</th>\n",
              "      <td>NaN</td>\n",
              "      <td>1.0</td>\n",
              "    </tr>\n",
              "    <tr>\n",
              "      <th>Yim Pilsung</th>\n",
              "      <td>NaN</td>\n",
              "      <td>1.0</td>\n",
              "    </tr>\n",
              "  </tbody>\n",
              "</table>\n",
              "<p>4989 rows × 2 columns</p>\n",
              "</div>"
            ],
            "text/plain": [
              "type                 Movie  TV Show\n",
              "director                           \n",
              "Rajiv Chilaka         22.0      NaN\n",
              "Jan Suter             21.0      NaN\n",
              "Raúl Campos           19.0      NaN\n",
              "Suhas Kadav           16.0      NaN\n",
              "Marcus Raboy          15.0      1.0\n",
              "...                    ...      ...\n",
              "Vijay S. Bhanushali    NaN      1.0\n",
              "Wouter Bouvijn         NaN      1.0\n",
              "YC Tom Lee             NaN      1.0\n",
              "Yasuhiro Irie          NaN      1.0\n",
              "Yim Pilsung            NaN      1.0\n",
              "\n",
              "[4989 rows x 2 columns]"
            ]
          },
          "execution_count": 79,
          "metadata": {},
          "output_type": "execute_result"
        }
      ],
      "source": [
        "x = dir_tb.groupby(['director' , 'type'])['show_id'].count().reset_index()\n",
        "x.pivot(index= ['director'] , columns = 'type' , values = 'show_id').sort_values('Movie' ,ascending = False)"
      ]
    },
    {
      "cell_type": "markdown",
      "metadata": {
        "id": "ypk2CioM0uJo"
      },
      "source": [
        "###lets know more about genres so we look listed_in"
      ]
    },
    {
      "cell_type": "code",
      "execution_count": 80,
      "metadata": {
        "colab": {
          "base_uri": "https://localhost:8080/",
          "height": 423
        },
        "id": "cGVru2k50Qxo",
        "outputId": "68d84e47-bec3-4e31-f575-5f9c7f27d940"
      },
      "outputs": [
        {
          "data": {
            "text/html": [
              "<div>\n",
              "<style scoped>\n",
              "    .dataframe tbody tr th:only-of-type {\n",
              "        vertical-align: middle;\n",
              "    }\n",
              "\n",
              "    .dataframe tbody tr th {\n",
              "        vertical-align: top;\n",
              "    }\n",
              "\n",
              "    .dataframe thead th {\n",
              "        text-align: right;\n",
              "    }\n",
              "</style>\n",
              "<table border=\"1\" class=\"dataframe\">\n",
              "  <thead>\n",
              "    <tr style=\"text-align: right;\">\n",
              "      <th></th>\n",
              "      <th>show_id</th>\n",
              "      <th>type</th>\n",
              "      <th>listed_in</th>\n",
              "    </tr>\n",
              "  </thead>\n",
              "  <tbody>\n",
              "    <tr>\n",
              "      <th>0</th>\n",
              "      <td>s1</td>\n",
              "      <td>Movie</td>\n",
              "      <td>Documentaries</td>\n",
              "    </tr>\n",
              "    <tr>\n",
              "      <th>1</th>\n",
              "      <td>s2</td>\n",
              "      <td>TV Show</td>\n",
              "      <td>International TV Shows, TV Dramas, TV Mysteries</td>\n",
              "    </tr>\n",
              "    <tr>\n",
              "      <th>2</th>\n",
              "      <td>s3</td>\n",
              "      <td>TV Show</td>\n",
              "      <td>Crime TV Shows, International TV Shows, TV Act...</td>\n",
              "    </tr>\n",
              "    <tr>\n",
              "      <th>3</th>\n",
              "      <td>s4</td>\n",
              "      <td>TV Show</td>\n",
              "      <td>Docuseries, Reality TV</td>\n",
              "    </tr>\n",
              "    <tr>\n",
              "      <th>4</th>\n",
              "      <td>s5</td>\n",
              "      <td>TV Show</td>\n",
              "      <td>International TV Shows, Romantic TV Shows, TV ...</td>\n",
              "    </tr>\n",
              "    <tr>\n",
              "      <th>...</th>\n",
              "      <td>...</td>\n",
              "      <td>...</td>\n",
              "      <td>...</td>\n",
              "    </tr>\n",
              "    <tr>\n",
              "      <th>8802</th>\n",
              "      <td>s8803</td>\n",
              "      <td>Movie</td>\n",
              "      <td>Cult Movies, Dramas, Thrillers</td>\n",
              "    </tr>\n",
              "    <tr>\n",
              "      <th>8803</th>\n",
              "      <td>s8804</td>\n",
              "      <td>TV Show</td>\n",
              "      <td>Kids' TV, Korean TV Shows, TV Comedies</td>\n",
              "    </tr>\n",
              "    <tr>\n",
              "      <th>8804</th>\n",
              "      <td>s8805</td>\n",
              "      <td>Movie</td>\n",
              "      <td>Comedies, Horror Movies</td>\n",
              "    </tr>\n",
              "    <tr>\n",
              "      <th>8805</th>\n",
              "      <td>s8806</td>\n",
              "      <td>Movie</td>\n",
              "      <td>Children &amp; Family Movies, Comedies</td>\n",
              "    </tr>\n",
              "    <tr>\n",
              "      <th>8806</th>\n",
              "      <td>s8807</td>\n",
              "      <td>Movie</td>\n",
              "      <td>Dramas, International Movies, Music &amp; Musicals</td>\n",
              "    </tr>\n",
              "  </tbody>\n",
              "</table>\n",
              "<p>8706 rows × 3 columns</p>\n",
              "</div>"
            ],
            "text/plain": [
              "     show_id     type                                          listed_in\n",
              "0         s1    Movie                                      Documentaries\n",
              "1         s2  TV Show    International TV Shows, TV Dramas, TV Mysteries\n",
              "2         s3  TV Show  Crime TV Shows, International TV Shows, TV Act...\n",
              "3         s4  TV Show                             Docuseries, Reality TV\n",
              "4         s5  TV Show  International TV Shows, Romantic TV Shows, TV ...\n",
              "...      ...      ...                                                ...\n",
              "8802   s8803    Movie                     Cult Movies, Dramas, Thrillers\n",
              "8803   s8804  TV Show             Kids' TV, Korean TV Shows, TV Comedies\n",
              "8804   s8805    Movie                            Comedies, Horror Movies\n",
              "8805   s8806    Movie                 Children & Family Movies, Comedies\n",
              "8806   s8807    Movie     Dramas, International Movies, Music & Musicals\n",
              "\n",
              "[8706 rows x 3 columns]"
            ]
          },
          "execution_count": 80,
          "metadata": {},
          "output_type": "execute_result"
        }
      ],
      "source": [
        "genre_tb = df[['show_id' , 'type', 'listed_in']]\n",
        "genre_tb"
      ]
    },
    {
      "cell_type": "code",
      "execution_count": 81,
      "metadata": {
        "id": "ShHxC3Tt0Qvr"
      },
      "outputs": [],
      "source": [
        "genre_tb['listed_in'] = genre_tb['listed_in'].apply(lambda x : x.split(','))\n",
        "genre_tb = genre_tb.explode('listed_in')"
      ]
    },
    {
      "cell_type": "code",
      "execution_count": 82,
      "metadata": {
        "colab": {
          "base_uri": "https://localhost:8080/",
          "height": 423
        },
        "id": "kmAGJC140Qta",
        "outputId": "e0dcda37-5323-4b55-c316-48685d1c148c"
      },
      "outputs": [
        {
          "data": {
            "text/html": [
              "<div>\n",
              "<style scoped>\n",
              "    .dataframe tbody tr th:only-of-type {\n",
              "        vertical-align: middle;\n",
              "    }\n",
              "\n",
              "    .dataframe tbody tr th {\n",
              "        vertical-align: top;\n",
              "    }\n",
              "\n",
              "    .dataframe thead th {\n",
              "        text-align: right;\n",
              "    }\n",
              "</style>\n",
              "<table border=\"1\" class=\"dataframe\">\n",
              "  <thead>\n",
              "    <tr style=\"text-align: right;\">\n",
              "      <th></th>\n",
              "      <th>show_id</th>\n",
              "      <th>type</th>\n",
              "      <th>listed_in</th>\n",
              "    </tr>\n",
              "  </thead>\n",
              "  <tbody>\n",
              "    <tr>\n",
              "      <th>0</th>\n",
              "      <td>s1</td>\n",
              "      <td>Movie</td>\n",
              "      <td>Documentaries</td>\n",
              "    </tr>\n",
              "    <tr>\n",
              "      <th>1</th>\n",
              "      <td>s2</td>\n",
              "      <td>TV Show</td>\n",
              "      <td>International TV Shows</td>\n",
              "    </tr>\n",
              "    <tr>\n",
              "      <th>1</th>\n",
              "      <td>s2</td>\n",
              "      <td>TV Show</td>\n",
              "      <td>TV Dramas</td>\n",
              "    </tr>\n",
              "    <tr>\n",
              "      <th>1</th>\n",
              "      <td>s2</td>\n",
              "      <td>TV Show</td>\n",
              "      <td>TV Mysteries</td>\n",
              "    </tr>\n",
              "    <tr>\n",
              "      <th>2</th>\n",
              "      <td>s3</td>\n",
              "      <td>TV Show</td>\n",
              "      <td>Crime TV Shows</td>\n",
              "    </tr>\n",
              "    <tr>\n",
              "      <th>...</th>\n",
              "      <td>...</td>\n",
              "      <td>...</td>\n",
              "      <td>...</td>\n",
              "    </tr>\n",
              "    <tr>\n",
              "      <th>8805</th>\n",
              "      <td>s8806</td>\n",
              "      <td>Movie</td>\n",
              "      <td>Children &amp; Family Movies</td>\n",
              "    </tr>\n",
              "    <tr>\n",
              "      <th>8805</th>\n",
              "      <td>s8806</td>\n",
              "      <td>Movie</td>\n",
              "      <td>Comedies</td>\n",
              "    </tr>\n",
              "    <tr>\n",
              "      <th>8806</th>\n",
              "      <td>s8807</td>\n",
              "      <td>Movie</td>\n",
              "      <td>Dramas</td>\n",
              "    </tr>\n",
              "    <tr>\n",
              "      <th>8806</th>\n",
              "      <td>s8807</td>\n",
              "      <td>Movie</td>\n",
              "      <td>International Movies</td>\n",
              "    </tr>\n",
              "    <tr>\n",
              "      <th>8806</th>\n",
              "      <td>s8807</td>\n",
              "      <td>Movie</td>\n",
              "      <td>Music &amp; Musicals</td>\n",
              "    </tr>\n",
              "  </tbody>\n",
              "</table>\n",
              "<p>19112 rows × 3 columns</p>\n",
              "</div>"
            ],
            "text/plain": [
              "     show_id     type                 listed_in\n",
              "0         s1    Movie             Documentaries\n",
              "1         s2  TV Show    International TV Shows\n",
              "1         s2  TV Show                 TV Dramas\n",
              "1         s2  TV Show              TV Mysteries\n",
              "2         s3  TV Show            Crime TV Shows\n",
              "...      ...      ...                       ...\n",
              "8805   s8806    Movie  Children & Family Movies\n",
              "8805   s8806    Movie                  Comedies\n",
              "8806   s8807    Movie                    Dramas\n",
              "8806   s8807    Movie      International Movies\n",
              "8806   s8807    Movie          Music & Musicals\n",
              "\n",
              "[19112 rows x 3 columns]"
            ]
          },
          "execution_count": 82,
          "metadata": {},
          "output_type": "execute_result"
        }
      ],
      "source": [
        "genre_tb"
      ]
    },
    {
      "cell_type": "code",
      "execution_count": 83,
      "metadata": {
        "colab": {
          "base_uri": "https://localhost:8080/"
        },
        "id": "hyftoxaU0Qqs",
        "outputId": "af6749e0-4a8b-4a49-9b18-b1d0475fbd27"
      },
      "outputs": [
        {
          "data": {
            "text/plain": [
              "listed_in\n",
              "International TV Shows           761\n",
              " TV Dramas                       679\n",
              " International TV Shows          567\n",
              " TV Comedies                     438\n",
              "Crime TV Shows                   391\n",
              "Kids' TV                         373\n",
              " Romantic TV Shows               334\n",
              "British TV Shows                 235\n",
              "Docuseries                       211\n",
              "Anime Series                     172\n",
              " Docuseries                      169\n",
              " Spanish-Language TV Shows       166\n",
              " Korean TV Shows                 147\n",
              " Reality TV                      127\n",
              " TV Action & Adventure           123\n",
              "Reality TV                       117\n",
              "TV Comedies                      112\n",
              " TV Mysteries                     95\n",
              " Science & Nature TV              87\n",
              " TV Sci-Fi & Fantasy              81\n",
              " Crime TV Shows                   68\n",
              " Teen TV Shows                    68\n",
              " TV Horror                        61\n",
              "TV Dramas                         60\n",
              " Kids' TV                         60\n",
              " TV Thrillers                     56\n",
              "TV Action & Adventure             37\n",
              "Stand-Up Comedy & Talk Shows      33\n",
              "Romantic TV Shows                 30\n",
              " Stand-Up Comedy & Talk Shows     21\n",
              "TV Shows                          16\n",
              "Classic & Cult TV                 16\n",
              "TV Horror                         11\n",
              " Classic & Cult TV                 5\n",
              "Spanish-Language TV Shows          2\n",
              "TV Sci-Fi & Fantasy                1\n",
              "Name: count, dtype: int64"
            ]
          },
          "execution_count": 83,
          "metadata": {},
          "output_type": "execute_result"
        }
      ],
      "source": [
        "genre_tb.query('type == \"TV Show\"')['listed_in'].value_counts()"
      ]
    },
    {
      "cell_type": "code",
      "execution_count": 84,
      "metadata": {
        "colab": {
          "base_uri": "https://localhost:8080/"
        },
        "id": "w9jj9h6i763z",
        "outputId": "3978e342-3b86-4bff-fe39-789f8fc0550b"
      },
      "outputs": [
        {
          "data": {
            "text/plain": [
              "listed_in\n",
              " International Movies        2622\n",
              "Dramas                       1598\n",
              "Comedies                     1210\n",
              "Action & Adventure            858\n",
              "Documentaries                 829\n",
              " Dramas                       827\n",
              " Independent Movies           736\n",
              " Romantic Movies              611\n",
              "Children & Family Movies      605\n",
              " Thrillers                    512\n",
              " Comedies                     463\n",
              " Music & Musicals             357\n",
              "Stand-Up Comedy               334\n",
              "Horror Movies                 275\n",
              " Sci-Fi & Fantasy             230\n",
              " Sports Movies                218\n",
              "International Movies          128\n",
              " LGBTQ Movies                 101\n",
              " Horror Movies                 82\n",
              "Classic Movies                 80\n",
              " Faith & Spirituality          65\n",
              "Thrillers                      65\n",
              " Cult Movies                   59\n",
              "Movies                         57\n",
              " Anime Features                50\n",
              " Documentaries                 40\n",
              " Children & Family Movies      36\n",
              " Classic Movies                36\n",
              "Anime Features                 21\n",
              "Independent Movies             20\n",
              "Music & Musicals               18\n",
              "Sci-Fi & Fantasy               13\n",
              "Cult Movies                    12\n",
              " Stand-Up Comedy                9\n",
              "Romantic Movies                 3\n",
              "LGBTQ Movies                    1\n",
              "Sports Movies                   1\n",
              "Name: count, dtype: int64"
            ]
          },
          "execution_count": 84,
          "metadata": {},
          "output_type": "execute_result"
        }
      ],
      "source": [
        "genre_tb.query('type == \"Movie\"')['listed_in'].value_counts()"
      ]
    },
    {
      "cell_type": "code",
      "execution_count": 85,
      "metadata": {
        "colab": {
          "base_uri": "https://localhost:8080/"
        },
        "id": "k02e3Hug6Q6A",
        "outputId": "33a5e0aa-7563-441f-c5af-9037de0cbf4b"
      },
      "outputs": [
        {
          "data": {
            "text/plain": [
              "73"
            ]
          },
          "execution_count": 85,
          "metadata": {},
          "output_type": "execute_result"
        }
      ],
      "source": [
        "genre_tb.listed_in.nunique()"
      ]
    },
    {
      "cell_type": "markdown",
      "metadata": {
        "id": "BXCgoOMk6ZoH"
      },
      "source": [
        "there are 42 unique gener"
      ]
    },
    {
      "cell_type": "markdown",
      "metadata": {
        "id": "2LqyHuoD8ux5"
      },
      "source": [
        "cast column --- exploring"
      ]
    },
    {
      "cell_type": "code",
      "execution_count": 86,
      "metadata": {
        "colab": {
          "base_uri": "https://localhost:8080/",
          "height": 423
        },
        "id": "VcZofRBw6Q3Q",
        "outputId": "f3e33b9e-3ab9-4e4a-b73f-cd0dc4766b0d"
      },
      "outputs": [
        {
          "data": {
            "text/html": [
              "<div>\n",
              "<style scoped>\n",
              "    .dataframe tbody tr th:only-of-type {\n",
              "        vertical-align: middle;\n",
              "    }\n",
              "\n",
              "    .dataframe tbody tr th {\n",
              "        vertical-align: top;\n",
              "    }\n",
              "\n",
              "    .dataframe thead th {\n",
              "        text-align: right;\n",
              "    }\n",
              "</style>\n",
              "<table border=\"1\" class=\"dataframe\">\n",
              "  <thead>\n",
              "    <tr style=\"text-align: right;\">\n",
              "      <th></th>\n",
              "      <th>show_id</th>\n",
              "      <th>type</th>\n",
              "      <th>cast</th>\n",
              "    </tr>\n",
              "  </thead>\n",
              "  <tbody>\n",
              "    <tr>\n",
              "      <th>1</th>\n",
              "      <td>s2</td>\n",
              "      <td>TV Show</td>\n",
              "      <td>Ama Qamata</td>\n",
              "    </tr>\n",
              "    <tr>\n",
              "      <th>1</th>\n",
              "      <td>s2</td>\n",
              "      <td>TV Show</td>\n",
              "      <td>Khosi Ngema</td>\n",
              "    </tr>\n",
              "    <tr>\n",
              "      <th>1</th>\n",
              "      <td>s2</td>\n",
              "      <td>TV Show</td>\n",
              "      <td>Gail Mabalane</td>\n",
              "    </tr>\n",
              "    <tr>\n",
              "      <th>1</th>\n",
              "      <td>s2</td>\n",
              "      <td>TV Show</td>\n",
              "      <td>Thabang Molaba</td>\n",
              "    </tr>\n",
              "    <tr>\n",
              "      <th>1</th>\n",
              "      <td>s2</td>\n",
              "      <td>TV Show</td>\n",
              "      <td>Dillon Windvogel</td>\n",
              "    </tr>\n",
              "    <tr>\n",
              "      <th>...</th>\n",
              "      <td>...</td>\n",
              "      <td>...</td>\n",
              "      <td>...</td>\n",
              "    </tr>\n",
              "    <tr>\n",
              "      <th>8806</th>\n",
              "      <td>s8807</td>\n",
              "      <td>Movie</td>\n",
              "      <td>Manish Chaudhary</td>\n",
              "    </tr>\n",
              "    <tr>\n",
              "      <th>8806</th>\n",
              "      <td>s8807</td>\n",
              "      <td>Movie</td>\n",
              "      <td>Meghna Malik</td>\n",
              "    </tr>\n",
              "    <tr>\n",
              "      <th>8806</th>\n",
              "      <td>s8807</td>\n",
              "      <td>Movie</td>\n",
              "      <td>Malkeet Rauni</td>\n",
              "    </tr>\n",
              "    <tr>\n",
              "      <th>8806</th>\n",
              "      <td>s8807</td>\n",
              "      <td>Movie</td>\n",
              "      <td>Anita Shabdish</td>\n",
              "    </tr>\n",
              "    <tr>\n",
              "      <th>8806</th>\n",
              "      <td>s8807</td>\n",
              "      <td>Movie</td>\n",
              "      <td>Chittaranjan Tripathy</td>\n",
              "    </tr>\n",
              "  </tbody>\n",
              "</table>\n",
              "<p>63419 rows × 3 columns</p>\n",
              "</div>"
            ],
            "text/plain": [
              "     show_id     type                   cast\n",
              "1         s2  TV Show             Ama Qamata\n",
              "1         s2  TV Show            Khosi Ngema\n",
              "1         s2  TV Show          Gail Mabalane\n",
              "1         s2  TV Show         Thabang Molaba\n",
              "1         s2  TV Show       Dillon Windvogel\n",
              "...      ...      ...                    ...\n",
              "8806   s8807    Movie       Manish Chaudhary\n",
              "8806   s8807    Movie           Meghna Malik\n",
              "8806   s8807    Movie          Malkeet Rauni\n",
              "8806   s8807    Movie         Anita Shabdish\n",
              "8806   s8807    Movie  Chittaranjan Tripathy\n",
              "\n",
              "[63419 rows x 3 columns]"
            ]
          },
          "execution_count": 86,
          "metadata": {},
          "output_type": "execute_result"
        }
      ],
      "source": [
        "cast_tb = df[['show_id' , 'type' ,'cast']]\n",
        "cast_tb.dropna(inplace = True)\n",
        "cast_tb['cast'] = cast_tb['cast'].apply(lambda x : x.split(', '))\n",
        "cast_tb = cast_tb.explode('cast')\n",
        "cast_tb"
      ]
    },
    {
      "cell_type": "code",
      "execution_count": 87,
      "metadata": {
        "colab": {
          "base_uri": "https://localhost:8080/",
          "height": 53
        },
        "id": "XUm0FjrL6Q0g",
        "outputId": "3a9be85b-da88-4752-d744-a145a44bf82b"
      },
      "outputs": [
        {
          "data": {
            "text/html": [
              "<div>\n",
              "<style scoped>\n",
              "    .dataframe tbody tr th:only-of-type {\n",
              "        vertical-align: middle;\n",
              "    }\n",
              "\n",
              "    .dataframe tbody tr th {\n",
              "        vertical-align: top;\n",
              "    }\n",
              "\n",
              "    .dataframe thead th {\n",
              "        text-align: right;\n",
              "    }\n",
              "</style>\n",
              "<table border=\"1\" class=\"dataframe\">\n",
              "  <thead>\n",
              "    <tr style=\"text-align: right;\">\n",
              "      <th></th>\n",
              "      <th>show_id</th>\n",
              "      <th>type</th>\n",
              "      <th>cast</th>\n",
              "    </tr>\n",
              "  </thead>\n",
              "  <tbody>\n",
              "  </tbody>\n",
              "</table>\n",
              "</div>"
            ],
            "text/plain": [
              "Empty DataFrame\n",
              "Columns: [show_id, type, cast]\n",
              "Index: []"
            ]
          },
          "execution_count": 87,
          "metadata": {},
          "output_type": "execute_result"
        }
      ],
      "source": [
        "# checking empty strings\n",
        "cast_tb[cast_tb['cast'] == '']"
      ]
    },
    {
      "cell_type": "code",
      "execution_count": 88,
      "metadata": {
        "colab": {
          "base_uri": "https://localhost:8080/"
        },
        "id": "Polykerf6Qx-",
        "outputId": "19ac66d4-4b44-4f57-d527-536c89f10e51"
      },
      "outputs": [
        {
          "data": {
            "text/plain": [
              "36125"
            ]
          },
          "execution_count": 88,
          "metadata": {},
          "output_type": "execute_result"
        }
      ],
      "source": [
        "# Total unique actors\n",
        "cast_tb.cast.nunique()"
      ]
    },
    {
      "cell_type": "code",
      "execution_count": 89,
      "metadata": {
        "colab": {
          "base_uri": "https://localhost:8080/",
          "height": 455
        },
        "id": "vLQc4-bg6Qvy",
        "outputId": "6c504ab6-2394-41e0-a238-dbabca6fad6b"
      },
      "outputs": [
        {
          "data": {
            "text/html": [
              "<div>\n",
              "<style scoped>\n",
              "    .dataframe tbody tr th:only-of-type {\n",
              "        vertical-align: middle;\n",
              "    }\n",
              "\n",
              "    .dataframe tbody tr th {\n",
              "        vertical-align: top;\n",
              "    }\n",
              "\n",
              "    .dataframe thead th {\n",
              "        text-align: right;\n",
              "    }\n",
              "</style>\n",
              "<table border=\"1\" class=\"dataframe\">\n",
              "  <thead>\n",
              "    <tr style=\"text-align: right;\">\n",
              "      <th>type</th>\n",
              "      <th>Movie</th>\n",
              "      <th>TV Show</th>\n",
              "    </tr>\n",
              "    <tr>\n",
              "      <th>cast</th>\n",
              "      <th></th>\n",
              "      <th></th>\n",
              "    </tr>\n",
              "  </thead>\n",
              "  <tbody>\n",
              "    <tr>\n",
              "      <th>Takahiro Sakurai</th>\n",
              "      <td>7.0</td>\n",
              "      <td>24.0</td>\n",
              "    </tr>\n",
              "    <tr>\n",
              "      <th>Yuki Kaji</th>\n",
              "      <td>10.0</td>\n",
              "      <td>19.0</td>\n",
              "    </tr>\n",
              "    <tr>\n",
              "      <th>Ai Kayano</th>\n",
              "      <td>2.0</td>\n",
              "      <td>17.0</td>\n",
              "    </tr>\n",
              "    <tr>\n",
              "      <th>Junichi Suwabe</th>\n",
              "      <td>4.0</td>\n",
              "      <td>17.0</td>\n",
              "    </tr>\n",
              "    <tr>\n",
              "      <th>Daisuke Ono</th>\n",
              "      <td>5.0</td>\n",
              "      <td>17.0</td>\n",
              "    </tr>\n",
              "    <tr>\n",
              "      <th>...</th>\n",
              "      <td>...</td>\n",
              "      <td>...</td>\n",
              "    </tr>\n",
              "    <tr>\n",
              "      <th>Şerif Sezer</th>\n",
              "      <td>1.0</td>\n",
              "      <td>NaN</td>\n",
              "    </tr>\n",
              "    <tr>\n",
              "      <th>Şevket Çoruh</th>\n",
              "      <td>1.0</td>\n",
              "      <td>NaN</td>\n",
              "    </tr>\n",
              "    <tr>\n",
              "      <th>Şinasi Yurtsever</th>\n",
              "      <td>3.0</td>\n",
              "      <td>NaN</td>\n",
              "    </tr>\n",
              "    <tr>\n",
              "      <th>Şükran Ovalı</th>\n",
              "      <td>1.0</td>\n",
              "      <td>NaN</td>\n",
              "    </tr>\n",
              "    <tr>\n",
              "      <th>Ṣọpẹ́ Dìrísù</th>\n",
              "      <td>1.0</td>\n",
              "      <td>NaN</td>\n",
              "    </tr>\n",
              "  </tbody>\n",
              "</table>\n",
              "<p>36125 rows × 2 columns</p>\n",
              "</div>"
            ],
            "text/plain": [
              "type              Movie  TV Show\n",
              "cast                            \n",
              "Takahiro Sakurai    7.0     24.0\n",
              "Yuki Kaji          10.0     19.0\n",
              "Ai Kayano           2.0     17.0\n",
              "Junichi Suwabe      4.0     17.0\n",
              "Daisuke Ono         5.0     17.0\n",
              "...                 ...      ...\n",
              "Şerif Sezer         1.0      NaN\n",
              "Şevket Çoruh        1.0      NaN\n",
              "Şinasi Yurtsever    3.0      NaN\n",
              "Şükran Ovalı        1.0      NaN\n",
              "Ṣọpẹ́ Dìrísù        1.0      NaN\n",
              "\n",
              "[36125 rows x 2 columns]"
            ]
          },
          "execution_count": 89,
          "metadata": {},
          "output_type": "execute_result"
        }
      ],
      "source": [
        "# Total movies/TV shows by each actor\n",
        "x = cast_tb.groupby(['cast' , 'type'])['show_id'].count().reset_index()\n",
        "x.pivot(index = 'cast' , columns = 'type' ,\n",
        "        values = 'show_id').sort_values('TV Show' ,\n",
        "                                        ascending = False)"
      ]
    },
    {
      "cell_type": "markdown",
      "metadata": {
        "id": "aUngR-5Y9YS0"
      },
      "source": [
        "#4. Visual Analysis"
      ]
    },
    {
      "cell_type": "code",
      "execution_count": 114,
      "metadata": {
        "colab": {
          "base_uri": "https://localhost:8080/",
          "height": 428
        },
        "id": "jZ4vhx4h6QtY",
        "outputId": "39c8368a-4750-481b-a26d-31c3145b55d0"
      },
      "outputs": [
        {
          "data": {
            "image/png": "[encoded data removed]",
            "text/plain": [
              "<Figure size 640x480 with 1 Axes>"
            ]
          },
          "metadata": {},
          "output_type": "display_data"
        }
      ],
      "source": [
        "types = df.type.value_counts()\n",
        "plt.pie(types,  labels=types.index, autopct='%1.1f%%' , colors = ['maroon' , 'red'])\n",
        "plt.title('Total_Movies and TV Shows')\n",
        "plt.show()"
      ]
    },
    {
      "cell_type": "markdown",
      "metadata": {
        "id": "WedG4poC9qUx"
      },
      "source": [
        "change in movies and tv show over time and how they are added"
      ]
    },
    {
      "cell_type": "code",
      "execution_count": 91,
      "metadata": {
        "id": "fDXmgxxc6QrI"
      },
      "outputs": [],
      "source": [
        "d = df.groupby(['year_added' ,'type' ])['show_id'].count().reset_index()\n",
        "d.rename({'show_id' : 'total movies/TV shows'}, axis = 1 , inplace = True)"
      ]
    },
    {
      "cell_type": "code",
      "execution_count": 92,
      "metadata": {
        "colab": {
          "base_uri": "https://localhost:8080/",
          "height": 491
        },
        "id": "eNoIza1g6QnT",
        "outputId": "e858af1f-7c5c-4c7f-f138-dc0570e3bedc"
      },
      "outputs": [
        {
          "data": {
            "image/png": "[encoded data removed]",
            "text/plain": [
              "<Figure size 1000x500 with 1 Axes>"
            ]
          },
          "metadata": {},
          "output_type": "display_data"
        }
      ],
      "source": [
        "plt.figure(figsize = (10,5))\n",
        "sns.lineplot(data = d , x = 'year_added' , y = 'total movies/TV shows' , hue = 'type', marker = 'o'  , ms = 6)\n",
        "plt.xlabel('year_added' , fontsize = 12)\n",
        "plt.ylabel('total movies/TV shows' , fontsize = 12)\n",
        "plt.title('total movies and TV shows by the year_added' , fontsize = 12)\n",
        "plt.show()"
      ]
    },
    {
      "cell_type": "markdown",
      "metadata": {
        "id": "9f-pm2HH-UMN"
      },
      "source": [
        "Observation:\n",
        "\n",
        "\n",
        "\n",
        "1.   The content added on the Netflix surged drastically after 2015.\n",
        "2.  2019 marks the highest number of movies and TV shows added on the Netflix.\n",
        "3.  Year 2020 and 2021 has seen the drop in content added on Netflix, possibly because of Pandemic. But still , TV shows content have not dropped as drastic as movies."
      ]
    },
    {
      "cell_type": "code",
      "execution_count": 115,
      "metadata": {
        "colab": {
          "base_uri": "https://localhost:8080/",
          "height": 456
        },
        "id": "BUQ0jCjt6Qkh",
        "outputId": "837d0718-f192-438e-ae64-ec1878aa9d5c"
      },
      "outputs": [
        {
          "data": {
            "image/png": "[encoded data removed]",
            "text/plain": [
              "<Figure size 640x480 with 1 Axes>"
            ]
          },
          "metadata": {},
          "output_type": "display_data"
        }
      ],
      "source": [
        "# films yeary release\n",
        "films_rel=df['release_year'].value_counts().sort_values(ascending=False).head()\n",
        "films_rel.plot(kind='bar',color='maroon')\n",
        "plt.show()"
      ]
    },
    {
      "cell_type": "markdown",
      "metadata": {
        "id": "2uyZechz-fzA"
      },
      "source": [
        "**Observation:**\n",
        "\n",
        "1. 2018 marks the highest number of movie and TV show releases.\n",
        "\n",
        "2. Since 2018, A drop in movies is seen and rise in TV shows is observed clearly, and TV shows surpasses the movies count in mid 2020.\n",
        "\n",
        "3. In recent years TV shows are focussed more than Movies.\n",
        "\n",
        "4. The yearly number of releases has surged drastically from 2015."
      ]
    },
    {
      "cell_type": "code",
      "execution_count": 94,
      "metadata": {
        "id": "ICqj0pjM6QiE"
      },
      "outputs": [],
      "source": [
        "# total Movies directed by top 10 directors\n",
        "top_10_dir = dir_tb.director.value_counts().head(10).index\n",
        "df_new = dir_tb.loc[dir_tb['director'].isin(top_10_dir)]\n"
      ]
    },
    {
      "cell_type": "code",
      "execution_count": 95,
      "metadata": {
        "colab": {
          "base_uri": "https://localhost:8080/",
          "height": 776
        },
        "id": "OOmrXKjd_off",
        "outputId": "93970adf-6cb7-4cbd-fb4c-b29d3f480914"
      },
      "outputs": [
        {
          "data": {
            "image/png": "[encoded data removed]",
            "text/plain": [
              "<Figure size 800x600 with 1 Axes>"
            ]
          },
          "metadata": {},
          "output_type": "display_data"
        },
        {
          "data": {
            "text/plain": [
              "director\n",
              "Rajiv Chilaka     22\n",
              "Jan Suter         21\n",
              "Raúl Campos       19\n",
              "Marcus Raboy      16\n",
              "Suhas Kadav       16\n",
              "                  ..\n",
              "Parthiban          1\n",
              "Scott McAboy       1\n",
              "Raymie Muzquiz     1\n",
              "Stu Livingston     1\n",
              "Mozez Singh        1\n",
              "Name: count, Length: 4989, dtype: int64"
            ]
          },
          "execution_count": 95,
          "metadata": {},
          "output_type": "execute_result"
        }
      ],
      "source": [
        "plt.figure(figsize= (8 , 6))\n",
        "sns.countplot(data = df_new , y = 'director' , order = top_10_dir , orient = 'v')\n",
        "plt.xlabel('total_movies/TV shows' , fontsize = 12)\n",
        "plt.xlabel('Movies/TV shows count')\n",
        "plt.ylabel('Directors' , fontsize = 12)\n",
        "plt.title('Total_movies/TVshows_by_director')\n",
        "plt.show()\n",
        "x = dir_tb.director.value_counts()\n",
        "x"
      ]
    },
    {
      "cell_type": "code",
      "execution_count": 96,
      "metadata": {
        "id": "AW19vJLPA7LU"
      },
      "outputs": [],
      "source": [
        "# Lets check for top 10 countries\n",
        "top_10_country = country_tb.country.value_counts().head(10).index\n",
        "df_new = country_tb.loc[country_tb['country'].isin(top_10_country)]"
      ]
    },
    {
      "cell_type": "code",
      "execution_count": 97,
      "metadata": {
        "colab": {
          "base_uri": "https://localhost:8080/",
          "height": 394
        },
        "id": "z_BZ--9c_dcN",
        "outputId": "a75157f4-5033-4b05-efec-0cc94898e55c"
      },
      "outputs": [
        {
          "data": {
            "text/html": [
              "<div>\n",
              "<style scoped>\n",
              "    .dataframe tbody tr th:only-of-type {\n",
              "        vertical-align: middle;\n",
              "    }\n",
              "\n",
              "    .dataframe tbody tr th {\n",
              "        vertical-align: top;\n",
              "    }\n",
              "\n",
              "    .dataframe thead th {\n",
              "        text-align: right;\n",
              "    }\n",
              "</style>\n",
              "<table border=\"1\" class=\"dataframe\">\n",
              "  <thead>\n",
              "    <tr style=\"text-align: right;\">\n",
              "      <th>type</th>\n",
              "      <th>Movie</th>\n",
              "      <th>TV Show</th>\n",
              "    </tr>\n",
              "    <tr>\n",
              "      <th>country</th>\n",
              "      <th></th>\n",
              "      <th></th>\n",
              "    </tr>\n",
              "  </thead>\n",
              "  <tbody>\n",
              "    <tr>\n",
              "      <th>United States</th>\n",
              "      <td>2750</td>\n",
              "      <td>891</td>\n",
              "    </tr>\n",
              "    <tr>\n",
              "      <th>India</th>\n",
              "      <td>962</td>\n",
              "      <td>83</td>\n",
              "    </tr>\n",
              "    <tr>\n",
              "      <th>United Kingdom</th>\n",
              "      <td>531</td>\n",
              "      <td>253</td>\n",
              "    </tr>\n",
              "    <tr>\n",
              "      <th>Canada</th>\n",
              "      <td>319</td>\n",
              "      <td>113</td>\n",
              "    </tr>\n",
              "    <tr>\n",
              "      <th>France</th>\n",
              "      <td>301</td>\n",
              "      <td>86</td>\n",
              "    </tr>\n",
              "    <tr>\n",
              "      <th>Germany</th>\n",
              "      <td>182</td>\n",
              "      <td>43</td>\n",
              "    </tr>\n",
              "    <tr>\n",
              "      <th>Spain</th>\n",
              "      <td>171</td>\n",
              "      <td>57</td>\n",
              "    </tr>\n",
              "    <tr>\n",
              "      <th>Japan</th>\n",
              "      <td>119</td>\n",
              "      <td>195</td>\n",
              "    </tr>\n",
              "    <tr>\n",
              "      <th>Mexico</th>\n",
              "      <td>111</td>\n",
              "      <td>58</td>\n",
              "    </tr>\n",
              "    <tr>\n",
              "      <th>South Korea</th>\n",
              "      <td>61</td>\n",
              "      <td>165</td>\n",
              "    </tr>\n",
              "  </tbody>\n",
              "</table>\n",
              "</div>"
            ],
            "text/plain": [
              "type            Movie  TV Show\n",
              "country                       \n",
              "United States    2750      891\n",
              "India             962       83\n",
              "United Kingdom    531      253\n",
              "Canada            319      113\n",
              "France            301       86\n",
              "Germany           182       43\n",
              "Spain             171       57\n",
              "Japan             119      195\n",
              "Mexico            111       58\n",
              "South Korea        61      165"
            ]
          },
          "execution_count": 97,
          "metadata": {},
          "output_type": "execute_result"
        }
      ],
      "source": [
        "x = df_new.groupby(['country' , 'type'])['show_id'].count().reset_index()\n",
        "x.pivot(index = 'country' , columns = 'type' ,\n",
        "        values = 'show_id').sort_values('Movie',\n",
        "                                        ascending = False)"
      ]
    },
    {
      "cell_type": "code",
      "execution_count": 98,
      "metadata": {
        "colab": {
          "base_uri": "https://localhost:8080/",
          "height": 587
        },
        "id": "3H6OaXPE_eDm",
        "outputId": "738d0a2f-35e6-45c5-ea69-4bbaf1a5f96e"
      },
      "outputs": [
        {
          "data": {
            "image/png": "[encoded data removed]",
            "text/plain": [
              "<Figure size 800x500 with 1 Axes>"
            ]
          },
          "metadata": {},
          "output_type": "display_data"
        }
      ],
      "source": [
        "plt.figure(figsize= (8,5))\n",
        "sns.countplot(data = df_new , x = 'country' , order = top_10_country , hue = 'type')\n",
        "plt.xticks(rotation = 90 , fontsize = 12)\n",
        "plt.ylabel('total_movies/TV shows' , fontsize = 12)\n",
        "plt.xlabel('')\n",
        "plt.title('Total_movies/TVshows_by_country')\n",
        "plt.show()"
      ]
    },
    {
      "cell_type": "code",
      "execution_count": 99,
      "metadata": {
        "id": "zM2XgZig_eAu"
      },
      "outputs": [],
      "source": [
        "top_10_country = country_tb.country.value_counts().head(10).index\n",
        "country_tb['cat'] = country_tb['country'].apply(lambda x : x if x in top_10_country else 'Other Countries' )"
      ]
    },
    {
      "cell_type": "code",
      "execution_count": 100,
      "metadata": {
        "colab": {
          "base_uri": "https://localhost:8080/",
          "height": 441
        },
        "id": "xHiJ3jrQF-5G",
        "outputId": "f698a47a-d654-40f3-b357-082b6bb4377e"
      },
      "outputs": [
        {
          "data": {
            "image/png": "[encoded data removed]",
            "text/plain": [
              "<Figure size 500x500 with 1 Axes>"
            ]
          },
          "metadata": {},
          "output_type": "display_data"
        }
      ],
      "source": [
        "x = country_tb.cat.value_counts()\n",
        "\n",
        "plt.figure(figsize = (5,5))\n",
        "plt.pie(x , labels = x.index, autopct='%1.1f%%')\n",
        "plt.title('Total Content produced in each country' , fontsize = 10)\n",
        "plt.show()"
      ]
    },
    {
      "cell_type": "markdown",
      "metadata": {
        "id": "3jBr4ySSGwpr"
      },
      "source": [
        "**Observation:**\n",
        "\n",
        "1. United States is the HIGHEST contributor country on Netflix, followed by India and United Kingdom.\n",
        "\n",
        "2. Maximum content of Netflix which is around 75% , is coming from these top 10 countries.\n",
        "\n",
        "3. Rest of the world only contributes 25% of the content."
      ]
    },
    {
      "cell_type": "code",
      "execution_count": 101,
      "metadata": {
        "colab": {
          "base_uri": "https://localhost:8080/",
          "height": 734
        },
        "id": "2Mtq33bH_d73",
        "outputId": "38d4c920-bf97-401e-e7ff-712fff5feeb0"
      },
      "outputs": [
        {
          "data": {
            "image/png": "[encoded data removed]",
            "text/plain": [
              "<Figure size 1400x800 with 2 Axes>"
            ]
          },
          "metadata": {},
          "output_type": "display_data"
        }
      ],
      "source": [
        "#Total movies/TV shows distribution by rating of the content\n",
        "m = movies.loc[~movies.rating.isin(['Not Available' , 'NC-17' , 'TV-Y7-FV'])]\n",
        "m = m.rating.value_counts()\n",
        "t = tv_shows.loc[~tv_shows.rating.isin(['Not Available' , 'R' , 'NR', 'TV-Y7-FV'])]\n",
        "t = t.rating.value_counts()\n",
        "\n",
        "\n",
        "fig, ax = plt.subplots(1,2, figsize=(14,8))\n",
        "ax[0].pie(m , labels = m.index, autopct='%1.1f%%')\n",
        "ax[0].set_title('Total_movies_by_rating')\n",
        "\n",
        "ax[1].pie(t , labels = t.index, autopct='%1.1f%%')\n",
        "ax[1].set_title('Total_TV_shows_by_rating')\n",
        "\n",
        "plt.tight_layout()\n",
        "plt.show()"
      ]
    },
    {
      "cell_type": "code",
      "execution_count": 102,
      "metadata": {
        "id": "ac4g6J6J_d5b"
      },
      "outputs": [],
      "source": [
        "#top 10 gener in movies\n",
        "top_10_movie_genres = genre_tb[genre_tb['type'] == 'Movie'].listed_in.value_counts().head(10).index\n",
        "df_movie = genre_tb.loc[genre_tb['listed_in'].isin(top_10_movie_genres)]\n"
      ]
    },
    {
      "cell_type": "code",
      "execution_count": 103,
      "metadata": {
        "colab": {
          "base_uri": "https://localhost:8080/",
          "height": 610
        },
        "id": "9wNqENgw_d3A",
        "outputId": "520a4964-500d-41e3-c69e-96b3c899d7c6"
      },
      "outputs": [
        {
          "data": {
            "image/png": "[encoded data removed]",
            "text/plain": [
              "<Figure size 800x400 with 1 Axes>"
            ]
          },
          "metadata": {},
          "output_type": "display_data"
        }
      ],
      "source": [
        "plt.figure(figsize= (8,4))\n",
        "sns.countplot(data = df_movie , x = 'listed_in' , order = top_10_movie_genres)\n",
        "plt.xticks(rotation = 90 , fontsize = 12)\n",
        "plt.xlabel('total_movies' , fontsize = 12)\n",
        "plt.ylabel('Genres' , fontsize = 12)\n",
        "plt.title('Total_movies_by_genre')\n",
        "plt.show()"
      ]
    },
    {
      "cell_type": "code",
      "execution_count": 104,
      "metadata": {
        "id": "sJciC51XHbd5"
      },
      "outputs": [],
      "source": [
        "top_10_TV_genres = genre_tb[genre_tb['type'] == 'TV Show'].listed_in.value_counts().head(10).index\n",
        "df_tv = genre_tb.loc[genre_tb['listed_in'].isin(top_10_TV_genres)]"
      ]
    },
    {
      "cell_type": "code",
      "execution_count": 105,
      "metadata": {
        "colab": {
          "base_uri": "https://localhost:8080/",
          "height": 597
        },
        "id": "SBjMoX4THbbp",
        "outputId": "d45f28f6-9237-47cb-dc03-e5b2855b8c49"
      },
      "outputs": [
        {
          "data": {
            "image/png": "[encoded data removed]",
            "text/plain": [
              "<Figure size 800x400 with 1 Axes>"
            ]
          },
          "metadata": {},
          "output_type": "display_data"
        }
      ],
      "source": [
        "plt.figure(figsize= (8,4))\n",
        "sns.countplot(data = df_tv , x = 'listed_in' , order = top_10_TV_genres)\n",
        "plt.xticks(rotation = 90 , fontsize = 12)\n",
        "plt.ylabel('total_TV_Shows' , fontsize = 12)\n",
        "plt.xlabel('Genres' , fontsize = 12)\n",
        "plt.title('Total_TV_Shows_by_genre')\n",
        "plt.show()"
      ]
    },
    {
      "cell_type": "code",
      "execution_count": 106,
      "metadata": {
        "id": "T-P6-iZNHbZZ"
      },
      "outputs": [],
      "source": [
        "x = cast_tb.merge(country_tb , on = 'show_id').drop_duplicates()\n",
        "x = x.groupby(['country' , 'cast'])['show_id'].count().reset_index()"
      ]
    },
    {
      "cell_type": "code",
      "execution_count": 107,
      "metadata": {
        "id": "8scHj_WfHbXQ"
      },
      "outputs": [],
      "source": [
        "country_list = ['India'  , 'United Kingdom' , 'Canada' , 'France' , 'Japan']\n",
        "top_5_actors = x.loc[x['country'].isin(['United States'])].sort_values('show_id' , ascending = False).head(5)\n",
        "for i in country_list:\n",
        "    new = x.loc[x['country'].isin([i])].sort_values('show_id' , ascending = False).head(5)\n",
        "    top_5_actors = pd.concat( [top_5_actors , new] , ignore_index = True)"
      ]
    },
    {
      "cell_type": "code",
      "execution_count": 108,
      "metadata": {
        "colab": {
          "base_uri": "https://localhost:8080/",
          "height": 990
        },
        "id": "UCOA_KKuHbUv",
        "outputId": "76d285aa-991b-4fc7-b154-b0f943e93bf0"
      },
      "outputs": [
        {
          "data": {
            "text/html": [
              "<div>\n",
              "<style scoped>\n",
              "    .dataframe tbody tr th:only-of-type {\n",
              "        vertical-align: middle;\n",
              "    }\n",
              "\n",
              "    .dataframe tbody tr th {\n",
              "        vertical-align: top;\n",
              "    }\n",
              "\n",
              "    .dataframe thead th {\n",
              "        text-align: right;\n",
              "    }\n",
              "</style>\n",
              "<table border=\"1\" class=\"dataframe\">\n",
              "  <thead>\n",
              "    <tr style=\"text-align: right;\">\n",
              "      <th></th>\n",
              "      <th>country</th>\n",
              "      <th>cast</th>\n",
              "      <th>show_id</th>\n",
              "    </tr>\n",
              "  </thead>\n",
              "  <tbody>\n",
              "    <tr>\n",
              "      <th>0</th>\n",
              "      <td>United States</td>\n",
              "      <td>Tara Strong</td>\n",
              "      <td>22</td>\n",
              "    </tr>\n",
              "    <tr>\n",
              "      <th>1</th>\n",
              "      <td>United States</td>\n",
              "      <td>Samuel L. Jackson</td>\n",
              "      <td>22</td>\n",
              "    </tr>\n",
              "    <tr>\n",
              "      <th>2</th>\n",
              "      <td>United States</td>\n",
              "      <td>Fred Tatasciore</td>\n",
              "      <td>21</td>\n",
              "    </tr>\n",
              "    <tr>\n",
              "      <th>3</th>\n",
              "      <td>United States</td>\n",
              "      <td>Adam Sandler</td>\n",
              "      <td>19</td>\n",
              "    </tr>\n",
              "    <tr>\n",
              "      <th>4</th>\n",
              "      <td>United States</td>\n",
              "      <td>James Franco</td>\n",
              "      <td>19</td>\n",
              "    </tr>\n",
              "    <tr>\n",
              "      <th>5</th>\n",
              "      <td>India</td>\n",
              "      <td>Anupam Kher</td>\n",
              "      <td>40</td>\n",
              "    </tr>\n",
              "    <tr>\n",
              "      <th>6</th>\n",
              "      <td>India</td>\n",
              "      <td>Shah Rukh Khan</td>\n",
              "      <td>34</td>\n",
              "    </tr>\n",
              "    <tr>\n",
              "      <th>7</th>\n",
              "      <td>India</td>\n",
              "      <td>Naseeruddin Shah</td>\n",
              "      <td>31</td>\n",
              "    </tr>\n",
              "    <tr>\n",
              "      <th>8</th>\n",
              "      <td>India</td>\n",
              "      <td>Om Puri</td>\n",
              "      <td>29</td>\n",
              "    </tr>\n",
              "    <tr>\n",
              "      <th>9</th>\n",
              "      <td>India</td>\n",
              "      <td>Akshay Kumar</td>\n",
              "      <td>29</td>\n",
              "    </tr>\n",
              "    <tr>\n",
              "      <th>10</th>\n",
              "      <td>United Kingdom</td>\n",
              "      <td>David Attenborough</td>\n",
              "      <td>17</td>\n",
              "    </tr>\n",
              "    <tr>\n",
              "      <th>11</th>\n",
              "      <td>United Kingdom</td>\n",
              "      <td>John Cleese</td>\n",
              "      <td>16</td>\n",
              "    </tr>\n",
              "    <tr>\n",
              "      <th>12</th>\n",
              "      <td>United Kingdom</td>\n",
              "      <td>Michael Palin</td>\n",
              "      <td>14</td>\n",
              "    </tr>\n",
              "    <tr>\n",
              "      <th>13</th>\n",
              "      <td>United Kingdom</td>\n",
              "      <td>Terry Jones</td>\n",
              "      <td>12</td>\n",
              "    </tr>\n",
              "    <tr>\n",
              "      <th>14</th>\n",
              "      <td>United Kingdom</td>\n",
              "      <td>Eric Idle</td>\n",
              "      <td>12</td>\n",
              "    </tr>\n",
              "    <tr>\n",
              "      <th>15</th>\n",
              "      <td>Canada</td>\n",
              "      <td>John Paul Tremblay</td>\n",
              "      <td>14</td>\n",
              "    </tr>\n",
              "    <tr>\n",
              "      <th>16</th>\n",
              "      <td>Canada</td>\n",
              "      <td>Robb Wells</td>\n",
              "      <td>14</td>\n",
              "    </tr>\n",
              "    <tr>\n",
              "      <th>17</th>\n",
              "      <td>Canada</td>\n",
              "      <td>Vincent Tong</td>\n",
              "      <td>12</td>\n",
              "    </tr>\n",
              "    <tr>\n",
              "      <th>18</th>\n",
              "      <td>Canada</td>\n",
              "      <td>Ashleigh Ball</td>\n",
              "      <td>12</td>\n",
              "    </tr>\n",
              "    <tr>\n",
              "      <th>19</th>\n",
              "      <td>Canada</td>\n",
              "      <td>Michela Luci</td>\n",
              "      <td>11</td>\n",
              "    </tr>\n",
              "    <tr>\n",
              "      <th>20</th>\n",
              "      <td>France</td>\n",
              "      <td>Wille Lindberg</td>\n",
              "      <td>5</td>\n",
              "    </tr>\n",
              "    <tr>\n",
              "      <th>21</th>\n",
              "      <td>France</td>\n",
              "      <td>Benoît Magimel</td>\n",
              "      <td>5</td>\n",
              "    </tr>\n",
              "    <tr>\n",
              "      <th>22</th>\n",
              "      <td>France</td>\n",
              "      <td>Blanche Gardin</td>\n",
              "      <td>4</td>\n",
              "    </tr>\n",
              "    <tr>\n",
              "      <th>23</th>\n",
              "      <td>France</td>\n",
              "      <td>Liam Neeson</td>\n",
              "      <td>4</td>\n",
              "    </tr>\n",
              "    <tr>\n",
              "      <th>24</th>\n",
              "      <td>France</td>\n",
              "      <td>Jesse Richman</td>\n",
              "      <td>4</td>\n",
              "    </tr>\n",
              "    <tr>\n",
              "      <th>25</th>\n",
              "      <td>Japan</td>\n",
              "      <td>Takahiro Sakurai</td>\n",
              "      <td>28</td>\n",
              "    </tr>\n",
              "    <tr>\n",
              "      <th>26</th>\n",
              "      <td>Japan</td>\n",
              "      <td>Yuki Kaji</td>\n",
              "      <td>28</td>\n",
              "    </tr>\n",
              "    <tr>\n",
              "      <th>27</th>\n",
              "      <td>Japan</td>\n",
              "      <td>Daisuke Ono</td>\n",
              "      <td>22</td>\n",
              "    </tr>\n",
              "    <tr>\n",
              "      <th>28</th>\n",
              "      <td>Japan</td>\n",
              "      <td>Junichi Suwabe</td>\n",
              "      <td>19</td>\n",
              "    </tr>\n",
              "    <tr>\n",
              "      <th>29</th>\n",
              "      <td>Japan</td>\n",
              "      <td>Kana Hanazawa</td>\n",
              "      <td>18</td>\n",
              "    </tr>\n",
              "  </tbody>\n",
              "</table>\n",
              "</div>"
            ],
            "text/plain": [
              "           country                cast  show_id\n",
              "0    United States         Tara Strong       22\n",
              "1    United States   Samuel L. Jackson       22\n",
              "2    United States     Fred Tatasciore       21\n",
              "3    United States        Adam Sandler       19\n",
              "4    United States        James Franco       19\n",
              "5            India         Anupam Kher       40\n",
              "6            India      Shah Rukh Khan       34\n",
              "7            India    Naseeruddin Shah       31\n",
              "8            India             Om Puri       29\n",
              "9            India        Akshay Kumar       29\n",
              "10  United Kingdom  David Attenborough       17\n",
              "11  United Kingdom         John Cleese       16\n",
              "12  United Kingdom       Michael Palin       14\n",
              "13  United Kingdom         Terry Jones       12\n",
              "14  United Kingdom           Eric Idle       12\n",
              "15          Canada  John Paul Tremblay       14\n",
              "16          Canada          Robb Wells       14\n",
              "17          Canada        Vincent Tong       12\n",
              "18          Canada       Ashleigh Ball       12\n",
              "19          Canada        Michela Luci       11\n",
              "20          France      Wille Lindberg        5\n",
              "21          France      Benoît Magimel        5\n",
              "22          France      Blanche Gardin        4\n",
              "23          France         Liam Neeson        4\n",
              "24          France       Jesse Richman        4\n",
              "25           Japan    Takahiro Sakurai       28\n",
              "26           Japan           Yuki Kaji       28\n",
              "27           Japan         Daisuke Ono       22\n",
              "28           Japan      Junichi Suwabe       19\n",
              "29           Japan       Kana Hanazawa       18"
            ]
          },
          "execution_count": 108,
          "metadata": {},
          "output_type": "execute_result"
        }
      ],
      "source": [
        "# top 5 actors in top countries and their movies/tv shows count\n",
        "top_5_actors"
      ]
    },
    {
      "cell_type": "code",
      "execution_count": 109,
      "metadata": {
        "colab": {
          "base_uri": "https://localhost:8080/",
          "height": 990
        },
        "id": "aAqfjsupHbSL",
        "outputId": "a54b50ef-bd4e-4673-909c-57fd6d46a6ce"
      },
      "outputs": [
        {
          "data": {
            "text/html": [
              "<div>\n",
              "<style scoped>\n",
              "    .dataframe tbody tr th:only-of-type {\n",
              "        vertical-align: middle;\n",
              "    }\n",
              "\n",
              "    .dataframe tbody tr th {\n",
              "        vertical-align: top;\n",
              "    }\n",
              "\n",
              "    .dataframe thead th {\n",
              "        text-align: right;\n",
              "    }\n",
              "</style>\n",
              "<table border=\"1\" class=\"dataframe\">\n",
              "  <thead>\n",
              "    <tr style=\"text-align: right;\">\n",
              "      <th></th>\n",
              "      <th>country</th>\n",
              "      <th>listed_in</th>\n",
              "      <th>show_id</th>\n",
              "    </tr>\n",
              "  </thead>\n",
              "  <tbody>\n",
              "    <tr>\n",
              "      <th>0</th>\n",
              "      <td>United States</td>\n",
              "      <td>Dramas</td>\n",
              "      <td>547</td>\n",
              "    </tr>\n",
              "    <tr>\n",
              "      <th>1</th>\n",
              "      <td>United States</td>\n",
              "      <td>Documentaries</td>\n",
              "      <td>487</td>\n",
              "    </tr>\n",
              "    <tr>\n",
              "      <th>2</th>\n",
              "      <td>United States</td>\n",
              "      <td>Comedies</td>\n",
              "      <td>406</td>\n",
              "    </tr>\n",
              "    <tr>\n",
              "      <th>3</th>\n",
              "      <td>United States</td>\n",
              "      <td>Action &amp; Adventure</td>\n",
              "      <td>403</td>\n",
              "    </tr>\n",
              "    <tr>\n",
              "      <th>4</th>\n",
              "      <td>United States</td>\n",
              "      <td>Independent Movies</td>\n",
              "      <td>375</td>\n",
              "    </tr>\n",
              "    <tr>\n",
              "      <th>5</th>\n",
              "      <td>India</td>\n",
              "      <td>International Movies</td>\n",
              "      <td>826</td>\n",
              "    </tr>\n",
              "    <tr>\n",
              "      <th>6</th>\n",
              "      <td>India</td>\n",
              "      <td>Dramas</td>\n",
              "      <td>415</td>\n",
              "    </tr>\n",
              "    <tr>\n",
              "      <th>7</th>\n",
              "      <td>India</td>\n",
              "      <td>Comedies</td>\n",
              "      <td>271</td>\n",
              "    </tr>\n",
              "    <tr>\n",
              "      <th>8</th>\n",
              "      <td>India</td>\n",
              "      <td>Dramas</td>\n",
              "      <td>247</td>\n",
              "    </tr>\n",
              "    <tr>\n",
              "      <th>9</th>\n",
              "      <td>India</td>\n",
              "      <td>Independent Movies</td>\n",
              "      <td>166</td>\n",
              "    </tr>\n",
              "    <tr>\n",
              "      <th>10</th>\n",
              "      <td>United Kingdom</td>\n",
              "      <td>British TV Shows</td>\n",
              "      <td>208</td>\n",
              "    </tr>\n",
              "    <tr>\n",
              "      <th>11</th>\n",
              "      <td>United Kingdom</td>\n",
              "      <td>International Movies</td>\n",
              "      <td>162</td>\n",
              "    </tr>\n",
              "    <tr>\n",
              "      <th>12</th>\n",
              "      <td>United Kingdom</td>\n",
              "      <td>Dramas</td>\n",
              "      <td>142</td>\n",
              "    </tr>\n",
              "    <tr>\n",
              "      <th>13</th>\n",
              "      <td>United Kingdom</td>\n",
              "      <td>Documentaries</td>\n",
              "      <td>124</td>\n",
              "    </tr>\n",
              "    <tr>\n",
              "      <th>14</th>\n",
              "      <td>United Kingdom</td>\n",
              "      <td>International TV Shows</td>\n",
              "      <td>117</td>\n",
              "    </tr>\n",
              "    <tr>\n",
              "      <th>15</th>\n",
              "      <td>Canada</td>\n",
              "      <td>Children &amp; Family Movies</td>\n",
              "      <td>79</td>\n",
              "    </tr>\n",
              "    <tr>\n",
              "      <th>16</th>\n",
              "      <td>Canada</td>\n",
              "      <td>Dramas</td>\n",
              "      <td>62</td>\n",
              "    </tr>\n",
              "    <tr>\n",
              "      <th>17</th>\n",
              "      <td>Canada</td>\n",
              "      <td>International Movies</td>\n",
              "      <td>57</td>\n",
              "    </tr>\n",
              "    <tr>\n",
              "      <th>18</th>\n",
              "      <td>Canada</td>\n",
              "      <td>Comedies</td>\n",
              "      <td>55</td>\n",
              "    </tr>\n",
              "    <tr>\n",
              "      <th>19</th>\n",
              "      <td>Canada</td>\n",
              "      <td>Kids' TV</td>\n",
              "      <td>53</td>\n",
              "    </tr>\n",
              "    <tr>\n",
              "      <th>20</th>\n",
              "      <td>France</td>\n",
              "      <td>International Movies</td>\n",
              "      <td>202</td>\n",
              "    </tr>\n",
              "    <tr>\n",
              "      <th>21</th>\n",
              "      <td>France</td>\n",
              "      <td>Dramas</td>\n",
              "      <td>134</td>\n",
              "    </tr>\n",
              "    <tr>\n",
              "      <th>22</th>\n",
              "      <td>France</td>\n",
              "      <td>Independent Movies</td>\n",
              "      <td>69</td>\n",
              "    </tr>\n",
              "    <tr>\n",
              "      <th>23</th>\n",
              "      <td>France</td>\n",
              "      <td>Documentaries</td>\n",
              "      <td>39</td>\n",
              "    </tr>\n",
              "    <tr>\n",
              "      <th>24</th>\n",
              "      <td>France</td>\n",
              "      <td>Thrillers</td>\n",
              "      <td>39</td>\n",
              "    </tr>\n",
              "    <tr>\n",
              "      <th>25</th>\n",
              "      <td>Japan</td>\n",
              "      <td>Anime Series</td>\n",
              "      <td>139</td>\n",
              "    </tr>\n",
              "    <tr>\n",
              "      <th>26</th>\n",
              "      <td>Japan</td>\n",
              "      <td>International TV Shows</td>\n",
              "      <td>115</td>\n",
              "    </tr>\n",
              "    <tr>\n",
              "      <th>27</th>\n",
              "      <td>Japan</td>\n",
              "      <td>International Movies</td>\n",
              "      <td>69</td>\n",
              "    </tr>\n",
              "    <tr>\n",
              "      <th>28</th>\n",
              "      <td>Japan</td>\n",
              "      <td>Action &amp; Adventure</td>\n",
              "      <td>57</td>\n",
              "    </tr>\n",
              "    <tr>\n",
              "      <th>29</th>\n",
              "      <td>Japan</td>\n",
              "      <td>Anime Features</td>\n",
              "      <td>43</td>\n",
              "    </tr>\n",
              "  </tbody>\n",
              "</table>\n",
              "</div>"
            ],
            "text/plain": [
              "           country                 listed_in  show_id\n",
              "0    United States                    Dramas      547\n",
              "1    United States             Documentaries      487\n",
              "2    United States                  Comedies      406\n",
              "3    United States        Action & Adventure      403\n",
              "4    United States        Independent Movies      375\n",
              "5            India      International Movies      826\n",
              "6            India                    Dramas      415\n",
              "7            India                  Comedies      271\n",
              "8            India                    Dramas      247\n",
              "9            India        Independent Movies      166\n",
              "10  United Kingdom          British TV Shows      208\n",
              "11  United Kingdom      International Movies      162\n",
              "12  United Kingdom                    Dramas      142\n",
              "13  United Kingdom             Documentaries      124\n",
              "14  United Kingdom    International TV Shows      117\n",
              "15          Canada  Children & Family Movies       79\n",
              "16          Canada                    Dramas       62\n",
              "17          Canada      International Movies       57\n",
              "18          Canada                  Comedies       55\n",
              "19          Canada                  Kids' TV       53\n",
              "20          France      International Movies      202\n",
              "21          France                    Dramas      134\n",
              "22          France        Independent Movies       69\n",
              "23          France             Documentaries       39\n",
              "24          France                 Thrillers       39\n",
              "25           Japan              Anime Series      139\n",
              "26           Japan    International TV Shows      115\n",
              "27           Japan      International Movies       69\n",
              "28           Japan        Action & Adventure       57\n",
              "29           Japan            Anime Features       43"
            ]
          },
          "execution_count": 109,
          "metadata": {},
          "output_type": "execute_result"
        }
      ],
      "source": [
        "#top gener in each country\n",
        "x = genre_tb.merge(country_tb , on = 'show_id').drop_duplicates()\n",
        "x = x.groupby(['country' , 'listed_in'])['show_id'].count().reset_index()\n",
        "x.loc[x['country'] == 'United States'].sort_values('show_id' , ascending = False).head(5)\n",
        "\n",
        "country_list = ['India'  , 'United Kingdom' , 'Canada' , 'France' , 'Japan']\n",
        "top_5_genre = x.loc[x['country'].isin(['United States'])].sort_values('show_id' , ascending = False).head(5)\n",
        "\n",
        "for i in country_list:\n",
        "    new = x.loc[x['country'] == i].sort_values('show_id' , ascending = False).head(5)\n",
        "    top_5_genre = pd.concat( [top_5_genre , new] , ignore_index = True)\n",
        "top_5_genre"
      ]
    },
    {
      "cell_type": "code",
      "execution_count": 116,
      "metadata": {
        "colab": {
          "base_uri": "https://localhost:8080/",
          "height": 525
        },
        "id": "rvjJVxtRI19J",
        "outputId": "bb9ad492-0aa3-4eef-e3d3-97cc0de005e0"
      },
      "outputs": [
        {
          "data": {
            "image/png": "[encoded data removed]",
            "text/plain": [
              "<Figure size 700x500 with 1 Axes>"
            ]
          },
          "metadata": {},
          "output_type": "display_data"
        }
      ],
      "source": [
        "# Rating of shows and movies\n",
        "plt.figure(figsize=(7, 5))\n",
        "sns.countplot(data=df, x=\"rating\")\n",
        "plt.xticks(rotation=90, ha=\"right\")\n",
        "plt.title('Rating')\n",
        "plt.tight_layout()  \n",
        "plt.show()\n"
      ]
    },
    {
      "cell_type": "code",
      "execution_count": null,
      "metadata": {
        "id": "dFn6pYaCI17S"
      },
      "outputs": [],
      "source": [
        "#  popular genres in top 10 countries\n",
        "top_10_country = country_tb.country.value_counts().head(10).index\n",
        "top_10_country = country_tb.loc[country_tb['country'].isin(top_10_country)]\n"
      ]
    },
    {
      "cell_type": "code",
      "execution_count": null,
      "metadata": {
        "id": "pIY4pRU9I14i"
      },
      "outputs": [],
      "source": [
        "x = top_10_country.merge(genre_tb , on = 'show_id').drop_duplicates()\n",
        "country_genre = x.groupby([ 'country' , 'listed_in'])['show_id'].count().sort_values(ascending = False).reset_index()\n",
        "country_genre = country_genre.pivot(index = 'listed_in' , columns = 'country' , values = 'show_id')"
      ]
    },
    {
      "cell_type": "code",
      "execution_count": null,
      "metadata": {
        "colab": {
          "base_uri": "https://localhost:8080/",
          "height": 990
        },
        "id": "9_BDMztoI12h",
        "outputId": "07868bf4-9d3e-4c2f-8cdf-1e58efbb0e7a"
      },
      "outputs": [
        {
          "data": {
            "text/plain": [
              "Text(0.5, 1.0, 'Countries V/s Genres')"
            ]
          },
          "execution_count": 655,
          "metadata": {},
          "output_type": "execute_result"
        },
        {
          "data": {
            "image/png": "[encoded data removed]",
            "text/plain": [
              "<Figure size 1200x1000 with 2 Axes>"
            ]
          },
          "metadata": {},
          "output_type": "display_data"
        }
      ],
      "source": [
        "plt.figure(figsize = (12,10))\n",
        "sns.heatmap(data = country_genre , annot = True , fmt=\".0f\" , vmin = 20 , vmax = 250 )\n",
        "plt.xlabel('Countries' , fontsize = 12)\n",
        "plt.ylabel('Genres' , fontsize = 12)\n",
        "plt.title('Countries V/s Genres' , fontsize = 12)"
      ]
    },
    {
      "cell_type": "markdown",
      "metadata": {
        "id": "0j2TluWMKtXH"
      },
      "source": [
        "**Observations**\n",
        "\n",
        "* Approximately 70% of the content on Netflix consists of movies, while around 30% is TV shows.\n",
        "\n",
        "* The uploading of movies and TV shows on Netflix began in 2008, with relatively fewer additions until 2014.\n",
        "\n",
        "* A significant increase in content uploads is observed from 2015 onwards, with 2019 having the highest number of additions.\n",
        "\n",
        "* There's a noticeable drop in content added in 2020 and 2021, possibly due to the pandemic, particularly affecting movies.\n",
        "\n",
        "* Since 2018, there's been a decline in movies but a clear rise in TV shows, with TV shows surpassing movies in mid-2020, indicating the increasing popularity of TV shows.\n",
        "\n",
        "* Netflix has movies from total 127 countries, United States being the highset contributor with almost 37% of all the content.\n",
        "\n",
        "* Mostly country specific popular genres are observed in each country. Only United States have a good mix of almost all genres. Eg. Korean TV shows (Korea), British TV Shows (UK), Anime features and Anime series (Japan) and so on."
      ]
    },
    {
      "cell_type": "markdown",
      "metadata": {
        "id": "PqGYkYWjKtVC"
      },
      "source": [
        "**Recommendations**\n",
        "* Very limited genres are focussed in most of the countries except US.\n",
        "\n",
        "* It seems the current available genres suits best for US and few countries but maximum countries need some more genres which are highly popular in the region.\n",
        "\n",
        "* E.G. Indian Mythological content is highly popular. We can create such more country specific genres and It might also be liked acorss the world just like Japanese Anime.\n",
        "\n",
        "* Netflix business is mostly centered towards movies.it should increase number of Tv,shows as it gauges more attention.\n"
      ]
    },
    {
      "cell_type": "markdown",
      "metadata": {},
      "source": []
    }
  ],
  "metadata": {
    "colab": {
      "authorship_tag": "ABX9TyN5Na/M75hslhRfdpuchsLu",
      "include_colab_link": true,
      "provenance": []
    },
    "kernelspec": {
      "display_name": "Python 3",
      "name": "python3"
    },
    "language_info": {
      "codemirror_mode": {
        "name": "ipython",
        "version": 3
      },
      "file_extension": ".py",
      "mimetype": "text/x-python",
      "name": "python",
      "nbconvert_exporter": "python",
      "pygments_lexer": "ipython3",
      "version": "3.11.7"
    }
  },
  "nbformat": 4,
  "nbformat_minor": 0
}
